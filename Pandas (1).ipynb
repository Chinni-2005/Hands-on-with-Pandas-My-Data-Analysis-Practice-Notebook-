{
 "cells": [
  {
   "cell_type": "markdown",
   "id": "df1fc606-a90c-4a1b-83b6-f8e2cf537630",
   "metadata": {},
   "source": [
    "# 🐼 Pandas Practice and Data Analysis\n",
    "This notebook demonstrates hands-on practice with **pandas**, covering data creation, manipulation, cleaning, aggregation, and simple visualization.\n",
    "\n",
    "Dataset used: `housing_sample_2000_v2.csv` (synthetic dataset)."
   ]
  },
  {
   "cell_type": "markdown",
   "id": "ffc4beea-7cc0-427e-ab77-51e664e9ce7e",
   "metadata": {},
   "source": [
    "## 1️⃣ Creating and Inspecting a Series"
   ]
  },
  {
   "cell_type": "code",
   "execution_count": 1,
   "id": "b296ee3a-079d-4dd8-a63b-e4e3621eaafb",
   "metadata": {},
   "outputs": [],
   "source": [
    "import pandas as pd"
   ]
  },
  {
   "cell_type": "markdown",
   "id": "66958c15-56c8-4084-9548-ca38a9908171",
   "metadata": {},
   "source": [
    "##### Series is homogenous values because it consists of only either integers or objects, if one value becomes string in an integer series then whole series was converted into object"
   ]
  },
  {
   "cell_type": "code",
   "execution_count": 19,
   "id": "391b3402-04a4-452b-803b-9b17c89e45a0",
   "metadata": {},
   "outputs": [],
   "source": [
    "s = pd.Series([10,20,30,40,50])"
   ]
  },
  {
   "cell_type": "code",
   "execution_count": 20,
   "id": "0e680fef-f663-4be5-badb-95ff0a602a53",
   "metadata": {},
   "outputs": [
    {
     "data": {
      "text/plain": [
       "0    10\n",
       "1    20\n",
       "2    30\n",
       "3    40\n",
       "4    50\n",
       "dtype: int64"
      ]
     },
     "execution_count": 20,
     "metadata": {},
     "output_type": "execute_result"
    }
   ],
   "source": [
    "s"
   ]
  },
  {
   "cell_type": "code",
   "execution_count": 21,
   "id": "ca8ab9fd-470f-4bd9-9707-a7764627d5c8",
   "metadata": {},
   "outputs": [
    {
     "data": {
      "text/plain": [
       "dtype('int64')"
      ]
     },
     "execution_count": 21,
     "metadata": {},
     "output_type": "execute_result"
    }
   ],
   "source": [
    "s.dtype"
   ]
  },
  {
   "cell_type": "code",
   "execution_count": 22,
   "id": "b4fa162b-8f1b-4cf8-be38-b31654ec3f45",
   "metadata": {},
   "outputs": [
    {
     "data": {
      "text/plain": [
       "array([10, 20, 30, 40, 50])"
      ]
     },
     "execution_count": 22,
     "metadata": {},
     "output_type": "execute_result"
    }
   ],
   "source": [
    "s.values"
   ]
  },
  {
   "cell_type": "code",
   "execution_count": 23,
   "id": "abc93e34-b295-4577-abd2-009f90801579",
   "metadata": {},
   "outputs": [
    {
     "data": {
      "text/plain": [
       "RangeIndex(start=0, stop=5, step=1)"
      ]
     },
     "execution_count": 23,
     "metadata": {},
     "output_type": "execute_result"
    }
   ],
   "source": [
    "s.index"
   ]
  },
  {
   "cell_type": "code",
   "execution_count": 24,
   "id": "8ca01763-a36e-4b74-99a2-0c7d4feb5461",
   "metadata": {},
   "outputs": [
    {
     "name": "stdout",
     "output_type": "stream",
     "text": [
      "None\n"
     ]
    }
   ],
   "source": [
    "print(s.name)"
   ]
  },
  {
   "cell_type": "code",
   "execution_count": 25,
   "id": "bb4e3df1-fd58-4ff9-8d42-d66cd0273880",
   "metadata": {},
   "outputs": [
    {
     "name": "stdout",
     "output_type": "stream",
     "text": [
      "Calories\n"
     ]
    }
   ],
   "source": [
    "s.name = \"Calories\"\n",
    "print(s.name)"
   ]
  },
  {
   "cell_type": "code",
   "execution_count": 26,
   "id": "5469c446-348f-4078-9a21-479f6d3aa2ca",
   "metadata": {},
   "outputs": [
    {
     "data": {
      "text/plain": [
       "0    10\n",
       "1    20\n",
       "2    30\n",
       "3    40\n",
       "4    50\n",
       "Name: Calories, dtype: int64"
      ]
     },
     "execution_count": 26,
     "metadata": {},
     "output_type": "execute_result"
    }
   ],
   "source": [
    "s"
   ]
  },
  {
   "cell_type": "code",
   "execution_count": 27,
   "id": "8554d54d-124a-457e-9175-d5f4a4d7e780",
   "metadata": {},
   "outputs": [
    {
     "name": "stdout",
     "output_type": "stream",
     "text": [
      "0    10\n",
      "1    20\n",
      "2    30\n",
      "3    40\n",
      "4    50\n",
      "Name: Calories, dtype: int64\n"
     ]
    }
   ],
   "source": [
    "print(s)"
   ]
  },
  {
   "cell_type": "code",
   "execution_count": 28,
   "id": "fb2bc4ad-af19-4456-ba7b-41209d0a6358",
   "metadata": {},
   "outputs": [
    {
     "data": {
      "text/plain": [
       "np.int64(10)"
      ]
     },
     "execution_count": 28,
     "metadata": {},
     "output_type": "execute_result"
    }
   ],
   "source": [
    "# indexing\n",
    "s[0]"
   ]
  },
  {
   "cell_type": "code",
   "execution_count": 29,
   "id": "51813820-21e8-4211-b36e-3668eeea9bc7",
   "metadata": {},
   "outputs": [
    {
     "data": {
      "text/plain": [
       "0    10\n",
       "1    20\n",
       "2    30\n",
       "Name: Calories, dtype: int64"
      ]
     },
     "execution_count": 29,
     "metadata": {},
     "output_type": "execute_result"
    }
   ],
   "source": [
    "s[0:3] # start(included) : stop(excluded) : step(values to jump)"
   ]
  },
  {
   "cell_type": "code",
   "execution_count": 30,
   "id": "72470668-296c-4c2c-a894-8ae540d6e819",
   "metadata": {},
   "outputs": [
    {
     "data": {
      "text/plain": [
       "2    30\n",
       "3    40\n",
       "4    50\n",
       "Name: Calories, dtype: int64"
      ]
     },
     "execution_count": 30,
     "metadata": {},
     "output_type": "execute_result"
    }
   ],
   "source": [
    "s[2:5]"
   ]
  },
  {
   "cell_type": "code",
   "execution_count": 31,
   "id": "9a141d0c-3c8d-4922-a812-0ed8c3bb28a5",
   "metadata": {},
   "outputs": [
    {
     "data": {
      "text/plain": [
       "2    30\n",
       "3    40\n",
       "Name: Calories, dtype: int64"
      ]
     },
     "execution_count": 31,
     "metadata": {},
     "output_type": "execute_result"
    }
   ],
   "source": [
    "# iloc -> location based indexing\n",
    "s.iloc[2:4] # if indexes are in the form of integers"
   ]
  },
  {
   "cell_type": "code",
   "execution_count": 32,
   "id": "73002b33-12ab-40dc-9770-bbc5353b83c1",
   "metadata": {},
   "outputs": [
    {
     "data": {
      "text/plain": [
       "np.int64(40)"
      ]
     },
     "execution_count": 32,
     "metadata": {},
     "output_type": "execute_result"
    }
   ],
   "source": [
    "s.iloc[3]"
   ]
  },
  {
   "cell_type": "code",
   "execution_count": 33,
   "id": "26617544-29c0-4324-a2c3-eda8fb3ea3bd",
   "metadata": {},
   "outputs": [
    {
     "data": {
      "text/plain": [
       "1    20\n",
       "3    40\n",
       "4    50\n",
       "Name: Calories, dtype: int64"
      ]
     },
     "execution_count": 33,
     "metadata": {},
     "output_type": "execute_result"
    }
   ],
   "source": [
    "s.iloc[[1,3,4]]"
   ]
  },
  {
   "cell_type": "code",
   "execution_count": 34,
   "id": "f4148de1-6aca-455e-a8ab-85684ee7e10a",
   "metadata": {},
   "outputs": [],
   "source": [
    "index = [\"Apple\",\"Banana\",\"Orange\",\"Grapes\",\"Strawberry\"]"
   ]
  },
  {
   "cell_type": "code",
   "execution_count": 35,
   "id": "ec713129-c437-4d6b-847e-119772813293",
   "metadata": {},
   "outputs": [],
   "source": [
    "s.index = index"
   ]
  },
  {
   "cell_type": "code",
   "execution_count": 36,
   "id": "e28ce8a0-6287-40b7-8755-9aa76d35157d",
   "metadata": {},
   "outputs": [
    {
     "data": {
      "text/plain": [
       "Index(['Apple', 'Banana', 'Orange', 'Grapes', 'Strawberry'], dtype='object')"
      ]
     },
     "execution_count": 36,
     "metadata": {},
     "output_type": "execute_result"
    }
   ],
   "source": [
    "s.index"
   ]
  },
  {
   "cell_type": "code",
   "execution_count": 37,
   "id": "8d72b848-bfab-4c70-98a1-fdf69f8e6f71",
   "metadata": {},
   "outputs": [
    {
     "data": {
      "text/plain": [
       "np.int64(40)"
      ]
     },
     "execution_count": 37,
     "metadata": {},
     "output_type": "execute_result"
    }
   ],
   "source": [
    "s['Grapes']"
   ]
  },
  {
   "cell_type": "code",
   "execution_count": 39,
   "id": "2c6fcdea-0413-406b-ad73-c8a6d64067d2",
   "metadata": {},
   "outputs": [
    {
     "data": {
      "text/plain": [
       "np.int64(40)"
      ]
     },
     "execution_count": 39,
     "metadata": {},
     "output_type": "execute_result"
    }
   ],
   "source": [
    "s.iloc[3] # Here we couldn't remember the location or index number of indexes so we use the loc function"
   ]
  },
  {
   "cell_type": "code",
   "execution_count": 41,
   "id": "3038ba10-c6b0-47b2-ba52-70eb527480e7",
   "metadata": {},
   "outputs": [
    {
     "data": {
      "text/plain": [
       "np.int64(40)"
      ]
     },
     "execution_count": 41,
     "metadata": {},
     "output_type": "execute_result"
    }
   ],
   "source": [
    "# loc -> label based indexing\n",
    "s.loc['Grapes'] # by using loc function we directly give the index name"
   ]
  },
  {
   "cell_type": "code",
   "execution_count": 42,
   "id": "39ae5491-a4c7-4749-8e50-be257b57eef7",
   "metadata": {},
   "outputs": [
    {
     "data": {
      "text/plain": [
       "Grapes    40\n",
       "Apple     10\n",
       "Name: Calories, dtype: int64"
      ]
     },
     "execution_count": 42,
     "metadata": {},
     "output_type": "execute_result"
    }
   ],
   "source": [
    "s.loc[['Grapes','Apple']]"
   ]
  },
  {
   "cell_type": "code",
   "execution_count": 43,
   "id": "e44f1210-3901-472a-a132-73e3e6589c6f",
   "metadata": {},
   "outputs": [
    {
     "data": {
      "text/plain": [
       "Apple     10\n",
       "Banana    20\n",
       "Orange    30\n",
       "Grapes    40\n",
       "Name: Calories, dtype: int64"
      ]
     },
     "execution_count": 43,
     "metadata": {},
     "output_type": "execute_result"
    }
   ],
   "source": [
    "# In label based indexing your start as well as stop value both are included in the output.\n",
    "s['Apple':'Grapes']"
   ]
  },
  {
   "cell_type": "code",
   "execution_count": 44,
   "id": "3b53e25c-5ece-44c0-84c7-e0088630ccfa",
   "metadata": {},
   "outputs": [],
   "source": [
    "fruit_protein = {\n",
    "    \"Avocado\": 2.0,       # grams of protein\n",
    "    \"Guava\": 2.6,\n",
    "    \"Blackberries\": 2.0,\n",
    "    \"Oranges\": 0.9,\n",
    "    \"Banana\": 1.1,\n",
    "    \"Apples\": 0.3,\n",
    "    \"Kiwi\": 1.1,\n",
    "    \"Pomegranate\": 1.7,\n",
    "    \"Mango\": 0.8,\n",
    "    \"Cherries\": 1.0\n",
    "}"
   ]
  },
  {
   "cell_type": "code",
   "execution_count": 45,
   "id": "31351214-d40c-4cb1-babd-3fba95c41362",
   "metadata": {},
   "outputs": [],
   "source": [
    "s2 = pd.Series(fruit_protein)"
   ]
  },
  {
   "cell_type": "code",
   "execution_count": 46,
   "id": "e11a7640-b94a-4b84-9d75-79a862c691f1",
   "metadata": {},
   "outputs": [
    {
     "data": {
      "text/plain": [
       "Avocado         2.0\n",
       "Guava           2.6\n",
       "Blackberries    2.0\n",
       "Oranges         0.9\n",
       "Banana          1.1\n",
       "Apples          0.3\n",
       "Kiwi            1.1\n",
       "Pomegranate     1.7\n",
       "Mango           0.8\n",
       "Cherries        1.0\n",
       "dtype: float64"
      ]
     },
     "execution_count": 46,
     "metadata": {},
     "output_type": "execute_result"
    }
   ],
   "source": [
    "s2"
   ]
  },
  {
   "cell_type": "code",
   "execution_count": 48,
   "id": "fccf7d70-8db6-4f49-8cfa-b738de137ae2",
   "metadata": {},
   "outputs": [],
   "source": [
    "s2.name = 'Proteins'"
   ]
  },
  {
   "cell_type": "code",
   "execution_count": 49,
   "id": "439f1337-e02e-4164-9835-d808d17a0b1c",
   "metadata": {},
   "outputs": [
    {
     "data": {
      "text/plain": [
       "Avocado         2.0\n",
       "Guava           2.6\n",
       "Blackberries    2.0\n",
       "Oranges         0.9\n",
       "Banana          1.1\n",
       "Apples          0.3\n",
       "Kiwi            1.1\n",
       "Pomegranate     1.7\n",
       "Mango           0.8\n",
       "Cherries        1.0\n",
       "Name: Proteins, dtype: float64"
      ]
     },
     "execution_count": 49,
     "metadata": {},
     "output_type": "execute_result"
    }
   ],
   "source": [
    "s2"
   ]
  },
  {
   "cell_type": "code",
   "execution_count": 50,
   "id": "c25c6cc3-1aa0-4afd-b216-8d445352b700",
   "metadata": {},
   "outputs": [
    {
     "data": {
      "text/plain": [
       "Avocado          True\n",
       "Guava            True\n",
       "Blackberries     True\n",
       "Oranges         False\n",
       "Banana           True\n",
       "Apples          False\n",
       "Kiwi             True\n",
       "Pomegranate      True\n",
       "Mango           False\n",
       "Cherries        False\n",
       "Name: Proteins, dtype: bool"
      ]
     },
     "execution_count": 50,
     "metadata": {},
     "output_type": "execute_result"
    }
   ],
   "source": [
    "# Conditional Selection\n",
    "s2>1"
   ]
  },
  {
   "cell_type": "code",
   "execution_count": 51,
   "id": "62af705f-1c07-4c59-873d-bc7122703959",
   "metadata": {},
   "outputs": [
    {
     "data": {
      "text/plain": [
       "Avocado         2.0\n",
       "Guava           2.6\n",
       "Blackberries    2.0\n",
       "Banana          1.1\n",
       "Kiwi            1.1\n",
       "Pomegranate     1.7\n",
       "Name: Proteins, dtype: float64"
      ]
     },
     "execution_count": 51,
     "metadata": {},
     "output_type": "execute_result"
    }
   ],
   "source": [
    "s2[s2>1]"
   ]
  },
  {
   "cell_type": "code",
   "execution_count": 52,
   "id": "85003400-ae7e-4153-8167-a6866df1d58d",
   "metadata": {},
   "outputs": [
    {
     "data": {
      "text/plain": [
       "Avocado         2.0\n",
       "Guava           2.6\n",
       "Blackberries    2.0\n",
       "Oranges         0.9\n",
       "Banana          1.1\n",
       "Apples          0.3\n",
       "Kiwi            1.1\n",
       "Pomegranate     1.7\n",
       "Mango           0.8\n",
       "Cherries        1.0\n",
       "Name: Proteins, dtype: float64"
      ]
     },
     "execution_count": 52,
     "metadata": {},
     "output_type": "execute_result"
    }
   ],
   "source": [
    "# Logical Operators: and, or, not\n",
    "s2[(s2>0.5) | (s2<=2.0)]"
   ]
  },
  {
   "cell_type": "code",
   "execution_count": 53,
   "id": "a8c9c9e3-4685-4c80-be78-06ae6c842d2a",
   "metadata": {},
   "outputs": [
    {
     "data": {
      "text/plain": [
       "Avocado         2.0\n",
       "Blackberries    2.0\n",
       "Oranges         0.9\n",
       "Banana          1.1\n",
       "Kiwi            1.1\n",
       "Pomegranate     1.7\n",
       "Mango           0.8\n",
       "Cherries        1.0\n",
       "Name: Proteins, dtype: float64"
      ]
     },
     "execution_count": 53,
     "metadata": {},
     "output_type": "execute_result"
    }
   ],
   "source": [
    "s2[(s2>0.5) & (s2<=2.0)]"
   ]
  },
  {
   "cell_type": "code",
   "execution_count": 54,
   "id": "3fb27a3d-078e-48e1-bf48-20657fe09237",
   "metadata": {},
   "outputs": [
    {
     "data": {
      "text/plain": [
       "Oranges     0.9\n",
       "Apples      0.3\n",
       "Mango       0.8\n",
       "Cherries    1.0\n",
       "Name: Proteins, dtype: float64"
      ]
     },
     "execution_count": 54,
     "metadata": {},
     "output_type": "execute_result"
    }
   ],
   "source": [
    "s2[~(s2>1)]"
   ]
  },
  {
   "cell_type": "code",
   "execution_count": 56,
   "id": "ab2f410a-d0ac-4e1c-95b8-b3bb5324048f",
   "metadata": {},
   "outputs": [],
   "source": [
    "# Modifying the series\n",
    "s2['Mango'] = 2.8"
   ]
  },
  {
   "cell_type": "code",
   "execution_count": 57,
   "id": "f3d19192-35e6-4ebe-aa53-7317f61f6e4f",
   "metadata": {},
   "outputs": [
    {
     "data": {
      "text/plain": [
       "Avocado         2.0\n",
       "Guava           2.6\n",
       "Blackberries    2.0\n",
       "Oranges         0.9\n",
       "Banana          1.1\n",
       "Apples          0.3\n",
       "Kiwi            1.1\n",
       "Pomegranate     1.7\n",
       "Mango           2.8\n",
       "Cherries        1.0\n",
       "Name: Proteins, dtype: float64"
      ]
     },
     "execution_count": 57,
     "metadata": {},
     "output_type": "execute_result"
    }
   ],
   "source": [
    "s2"
   ]
  },
  {
   "cell_type": "code",
   "execution_count": 62,
   "id": "9280f1ca-96ab-4c74-bf74-243bdb0171be",
   "metadata": {},
   "outputs": [
    {
     "data": {
      "text/plain": [
       "0      a\n",
       "1    NaN\n",
       "2      1\n",
       "3    NaN\n",
       "4      2\n",
       "dtype: object"
      ]
     },
     "execution_count": 62,
     "metadata": {},
     "output_type": "execute_result"
    }
   ],
   "source": [
    "import numpy as np\n",
    "ser = pd.Series(['a',np.nan,1,np.nan,2])\n",
    "ser # here we can see that even series contains one string values also it converts the entire series into object"
   ]
  },
  {
   "cell_type": "code",
   "execution_count": 59,
   "id": "094b17a1-5355-4ff6-8920-d50d28fd76b0",
   "metadata": {},
   "outputs": [
    {
     "data": {
      "text/plain": [
       "np.int64(3)"
      ]
     },
     "execution_count": 59,
     "metadata": {},
     "output_type": "execute_result"
    }
   ],
   "source": [
    "ser.notnull().sum()"
   ]
  },
  {
   "cell_type": "code",
   "execution_count": 61,
   "id": "b2cfa3bd-a437-43f4-9b3d-10008469feab",
   "metadata": {},
   "outputs": [
    {
     "data": {
      "text/plain": [
       "np.int64(2)"
      ]
     },
     "execution_count": 61,
     "metadata": {},
     "output_type": "execute_result"
    }
   ],
   "source": [
    "ser.isnull().sum()"
   ]
  },
  {
   "cell_type": "markdown",
   "id": "c5fb16ca-75b8-482a-a1bf-45bbaa50fad4",
   "metadata": {},
   "source": [
    "## 2️⃣ Creating and Exploring a DataFrame"
   ]
  },
  {
   "cell_type": "code",
   "execution_count": 63,
   "id": "5478cfdf-fff6-4fef-a201-9cc09a1c292e",
   "metadata": {},
   "outputs": [],
   "source": [
    "# DataFrame:\n",
    "\n",
    "data = {\n",
    "    \"Name\": [\"Alice\", \"Bob\", \"Charlie\", \"David\", \"Eve\", \"Alice\"],\n",
    "    \"Age\": [25, 30, 35, np.nan, 29, 25],\n",
    "    \"Department\": [\"HR\", \"IT\", \"Finance\", \"IT\", \"HR\", \"HR\"],\n",
    "    \"Salary\": [50000, 60000, 70000, 62000, np.nan, 50000]\n",
    "}"
   ]
  },
  {
   "cell_type": "code",
   "execution_count": 65,
   "id": "8cf037c3-cdbd-4dfb-a695-d7bf8453500d",
   "metadata": {},
   "outputs": [
    {
     "data": {
      "text/html": [
       "<div>\n",
       "<style scoped>\n",
       "    .dataframe tbody tr th:only-of-type {\n",
       "        vertical-align: middle;\n",
       "    }\n",
       "\n",
       "    .dataframe tbody tr th {\n",
       "        vertical-align: top;\n",
       "    }\n",
       "\n",
       "    .dataframe thead th {\n",
       "        text-align: right;\n",
       "    }\n",
       "</style>\n",
       "<table border=\"1\" class=\"dataframe\">\n",
       "  <thead>\n",
       "    <tr style=\"text-align: right;\">\n",
       "      <th></th>\n",
       "      <th>Name</th>\n",
       "      <th>Age</th>\n",
       "      <th>Department</th>\n",
       "      <th>Salary</th>\n",
       "    </tr>\n",
       "  </thead>\n",
       "  <tbody>\n",
       "    <tr>\n",
       "      <th>0</th>\n",
       "      <td>Alice</td>\n",
       "      <td>25.0</td>\n",
       "      <td>HR</td>\n",
       "      <td>50000.0</td>\n",
       "    </tr>\n",
       "    <tr>\n",
       "      <th>1</th>\n",
       "      <td>Bob</td>\n",
       "      <td>30.0</td>\n",
       "      <td>IT</td>\n",
       "      <td>60000.0</td>\n",
       "    </tr>\n",
       "    <tr>\n",
       "      <th>2</th>\n",
       "      <td>Charlie</td>\n",
       "      <td>35.0</td>\n",
       "      <td>Finance</td>\n",
       "      <td>70000.0</td>\n",
       "    </tr>\n",
       "    <tr>\n",
       "      <th>3</th>\n",
       "      <td>David</td>\n",
       "      <td>NaN</td>\n",
       "      <td>IT</td>\n",
       "      <td>62000.0</td>\n",
       "    </tr>\n",
       "    <tr>\n",
       "      <th>4</th>\n",
       "      <td>Eve</td>\n",
       "      <td>29.0</td>\n",
       "      <td>HR</td>\n",
       "      <td>NaN</td>\n",
       "    </tr>\n",
       "    <tr>\n",
       "      <th>5</th>\n",
       "      <td>Alice</td>\n",
       "      <td>25.0</td>\n",
       "      <td>HR</td>\n",
       "      <td>50000.0</td>\n",
       "    </tr>\n",
       "  </tbody>\n",
       "</table>\n",
       "</div>"
      ],
      "text/plain": [
       "      Name   Age Department   Salary\n",
       "0    Alice  25.0         HR  50000.0\n",
       "1      Bob  30.0         IT  60000.0\n",
       "2  Charlie  35.0    Finance  70000.0\n",
       "3    David   NaN         IT  62000.0\n",
       "4      Eve  29.0         HR      NaN\n",
       "5    Alice  25.0         HR  50000.0"
      ]
     },
     "execution_count": 65,
     "metadata": {},
     "output_type": "execute_result"
    }
   ],
   "source": [
    "df = pd.DataFrame(data)\n",
    "df"
   ]
  },
  {
   "cell_type": "code",
   "execution_count": 67,
   "id": "0d812632-e91f-4211-b925-5b9e4cd7f283",
   "metadata": {},
   "outputs": [
    {
     "data": {
      "text/html": [
       "<div>\n",
       "<style scoped>\n",
       "    .dataframe tbody tr th:only-of-type {\n",
       "        vertical-align: middle;\n",
       "    }\n",
       "\n",
       "    .dataframe tbody tr th {\n",
       "        vertical-align: top;\n",
       "    }\n",
       "\n",
       "    .dataframe thead th {\n",
       "        text-align: right;\n",
       "    }\n",
       "</style>\n",
       "<table border=\"1\" class=\"dataframe\">\n",
       "  <thead>\n",
       "    <tr style=\"text-align: right;\">\n",
       "      <th></th>\n",
       "      <th>Name</th>\n",
       "      <th>Age</th>\n",
       "      <th>Department</th>\n",
       "      <th>Salary</th>\n",
       "    </tr>\n",
       "  </thead>\n",
       "  <tbody>\n",
       "    <tr>\n",
       "      <th>0</th>\n",
       "      <td>Alice</td>\n",
       "      <td>25.0</td>\n",
       "      <td>HR</td>\n",
       "      <td>50000.0</td>\n",
       "    </tr>\n",
       "    <tr>\n",
       "      <th>1</th>\n",
       "      <td>Bob</td>\n",
       "      <td>30.0</td>\n",
       "      <td>IT</td>\n",
       "      <td>60000.0</td>\n",
       "    </tr>\n",
       "    <tr>\n",
       "      <th>2</th>\n",
       "      <td>Charlie</td>\n",
       "      <td>35.0</td>\n",
       "      <td>Finance</td>\n",
       "      <td>70000.0</td>\n",
       "    </tr>\n",
       "    <tr>\n",
       "      <th>3</th>\n",
       "      <td>David</td>\n",
       "      <td>NaN</td>\n",
       "      <td>IT</td>\n",
       "      <td>62000.0</td>\n",
       "    </tr>\n",
       "    <tr>\n",
       "      <th>4</th>\n",
       "      <td>Eve</td>\n",
       "      <td>29.0</td>\n",
       "      <td>HR</td>\n",
       "      <td>NaN</td>\n",
       "    </tr>\n",
       "  </tbody>\n",
       "</table>\n",
       "</div>"
      ],
      "text/plain": [
       "      Name   Age Department   Salary\n",
       "0    Alice  25.0         HR  50000.0\n",
       "1      Bob  30.0         IT  60000.0\n",
       "2  Charlie  35.0    Finance  70000.0\n",
       "3    David   NaN         IT  62000.0\n",
       "4      Eve  29.0         HR      NaN"
      ]
     },
     "execution_count": 67,
     "metadata": {},
     "output_type": "execute_result"
    }
   ],
   "source": [
    "df.head() # it automatically gives top 5 rows even we cant give parameters"
   ]
  },
  {
   "cell_type": "code",
   "execution_count": 70,
   "id": "ff6e9244-2f4c-4725-95af-38c7170aa2bd",
   "metadata": {},
   "outputs": [
    {
     "data": {
      "text/html": [
       "<div>\n",
       "<style scoped>\n",
       "    .dataframe tbody tr th:only-of-type {\n",
       "        vertical-align: middle;\n",
       "    }\n",
       "\n",
       "    .dataframe tbody tr th {\n",
       "        vertical-align: top;\n",
       "    }\n",
       "\n",
       "    .dataframe thead th {\n",
       "        text-align: right;\n",
       "    }\n",
       "</style>\n",
       "<table border=\"1\" class=\"dataframe\">\n",
       "  <thead>\n",
       "    <tr style=\"text-align: right;\">\n",
       "      <th></th>\n",
       "      <th>Name</th>\n",
       "      <th>Age</th>\n",
       "      <th>Department</th>\n",
       "      <th>Salary</th>\n",
       "    </tr>\n",
       "  </thead>\n",
       "  <tbody>\n",
       "    <tr>\n",
       "      <th>0</th>\n",
       "      <td>Alice</td>\n",
       "      <td>25.0</td>\n",
       "      <td>HR</td>\n",
       "      <td>50000.0</td>\n",
       "    </tr>\n",
       "    <tr>\n",
       "      <th>1</th>\n",
       "      <td>Bob</td>\n",
       "      <td>30.0</td>\n",
       "      <td>IT</td>\n",
       "      <td>60000.0</td>\n",
       "    </tr>\n",
       "    <tr>\n",
       "      <th>2</th>\n",
       "      <td>Charlie</td>\n",
       "      <td>35.0</td>\n",
       "      <td>Finance</td>\n",
       "      <td>70000.0</td>\n",
       "    </tr>\n",
       "  </tbody>\n",
       "</table>\n",
       "</div>"
      ],
      "text/plain": [
       "      Name   Age Department   Salary\n",
       "0    Alice  25.0         HR  50000.0\n",
       "1      Bob  30.0         IT  60000.0\n",
       "2  Charlie  35.0    Finance  70000.0"
      ]
     },
     "execution_count": 70,
     "metadata": {},
     "output_type": "execute_result"
    }
   ],
   "source": [
    "df.head(3) # it gives top 3rows"
   ]
  },
  {
   "cell_type": "code",
   "execution_count": 71,
   "id": "d1b09428-8a57-4a42-828e-86bf7714b77a",
   "metadata": {},
   "outputs": [
    {
     "data": {
      "text/html": [
       "<div>\n",
       "<style scoped>\n",
       "    .dataframe tbody tr th:only-of-type {\n",
       "        vertical-align: middle;\n",
       "    }\n",
       "\n",
       "    .dataframe tbody tr th {\n",
       "        vertical-align: top;\n",
       "    }\n",
       "\n",
       "    .dataframe thead th {\n",
       "        text-align: right;\n",
       "    }\n",
       "</style>\n",
       "<table border=\"1\" class=\"dataframe\">\n",
       "  <thead>\n",
       "    <tr style=\"text-align: right;\">\n",
       "      <th></th>\n",
       "      <th>Name</th>\n",
       "      <th>Age</th>\n",
       "      <th>Department</th>\n",
       "      <th>Salary</th>\n",
       "    </tr>\n",
       "  </thead>\n",
       "  <tbody>\n",
       "    <tr>\n",
       "      <th>1</th>\n",
       "      <td>Bob</td>\n",
       "      <td>30.0</td>\n",
       "      <td>IT</td>\n",
       "      <td>60000.0</td>\n",
       "    </tr>\n",
       "    <tr>\n",
       "      <th>2</th>\n",
       "      <td>Charlie</td>\n",
       "      <td>35.0</td>\n",
       "      <td>Finance</td>\n",
       "      <td>70000.0</td>\n",
       "    </tr>\n",
       "    <tr>\n",
       "      <th>3</th>\n",
       "      <td>David</td>\n",
       "      <td>NaN</td>\n",
       "      <td>IT</td>\n",
       "      <td>62000.0</td>\n",
       "    </tr>\n",
       "    <tr>\n",
       "      <th>4</th>\n",
       "      <td>Eve</td>\n",
       "      <td>29.0</td>\n",
       "      <td>HR</td>\n",
       "      <td>NaN</td>\n",
       "    </tr>\n",
       "    <tr>\n",
       "      <th>5</th>\n",
       "      <td>Alice</td>\n",
       "      <td>25.0</td>\n",
       "      <td>HR</td>\n",
       "      <td>50000.0</td>\n",
       "    </tr>\n",
       "  </tbody>\n",
       "</table>\n",
       "</div>"
      ],
      "text/plain": [
       "      Name   Age Department   Salary\n",
       "1      Bob  30.0         IT  60000.0\n",
       "2  Charlie  35.0    Finance  70000.0\n",
       "3    David   NaN         IT  62000.0\n",
       "4      Eve  29.0         HR      NaN\n",
       "5    Alice  25.0         HR  50000.0"
      ]
     },
     "execution_count": 71,
     "metadata": {},
     "output_type": "execute_result"
    }
   ],
   "source": [
    "df.tail() # it gives last five rows"
   ]
  },
  {
   "cell_type": "code",
   "execution_count": 72,
   "id": "50bf49e6-f686-49e6-a88b-74d7e1694220",
   "metadata": {},
   "outputs": [
    {
     "data": {
      "text/html": [
       "<div>\n",
       "<style scoped>\n",
       "    .dataframe tbody tr th:only-of-type {\n",
       "        vertical-align: middle;\n",
       "    }\n",
       "\n",
       "    .dataframe tbody tr th {\n",
       "        vertical-align: top;\n",
       "    }\n",
       "\n",
       "    .dataframe thead th {\n",
       "        text-align: right;\n",
       "    }\n",
       "</style>\n",
       "<table border=\"1\" class=\"dataframe\">\n",
       "  <thead>\n",
       "    <tr style=\"text-align: right;\">\n",
       "      <th></th>\n",
       "      <th>Name</th>\n",
       "      <th>Age</th>\n",
       "    </tr>\n",
       "  </thead>\n",
       "  <tbody>\n",
       "    <tr>\n",
       "      <th>0</th>\n",
       "      <td>Alice</td>\n",
       "      <td>25.0</td>\n",
       "    </tr>\n",
       "    <tr>\n",
       "      <th>1</th>\n",
       "      <td>Bob</td>\n",
       "      <td>30.0</td>\n",
       "    </tr>\n",
       "    <tr>\n",
       "      <th>2</th>\n",
       "      <td>Charlie</td>\n",
       "      <td>35.0</td>\n",
       "    </tr>\n",
       "    <tr>\n",
       "      <th>3</th>\n",
       "      <td>David</td>\n",
       "      <td>NaN</td>\n",
       "    </tr>\n",
       "  </tbody>\n",
       "</table>\n",
       "</div>"
      ],
      "text/plain": [
       "      Name   Age\n",
       "0    Alice  25.0\n",
       "1      Bob  30.0\n",
       "2  Charlie  35.0\n",
       "3    David   NaN"
      ]
     },
     "execution_count": 72,
     "metadata": {},
     "output_type": "execute_result"
    }
   ],
   "source": [
    "# loc and iloc\n",
    "df.iloc[0:4,:2] # rows,columns"
   ]
  },
  {
   "cell_type": "code",
   "execution_count": 73,
   "id": "fc259e11-0563-42c7-8cf7-0e69c6157b30",
   "metadata": {},
   "outputs": [
    {
     "data": {
      "text/html": [
       "<div>\n",
       "<style scoped>\n",
       "    .dataframe tbody tr th:only-of-type {\n",
       "        vertical-align: middle;\n",
       "    }\n",
       "\n",
       "    .dataframe tbody tr th {\n",
       "        vertical-align: top;\n",
       "    }\n",
       "\n",
       "    .dataframe thead th {\n",
       "        text-align: right;\n",
       "    }\n",
       "</style>\n",
       "<table border=\"1\" class=\"dataframe\">\n",
       "  <thead>\n",
       "    <tr style=\"text-align: right;\">\n",
       "      <th></th>\n",
       "      <th>Name</th>\n",
       "      <th>Department</th>\n",
       "    </tr>\n",
       "  </thead>\n",
       "  <tbody>\n",
       "    <tr>\n",
       "      <th>0</th>\n",
       "      <td>Alice</td>\n",
       "      <td>HR</td>\n",
       "    </tr>\n",
       "    <tr>\n",
       "      <th>1</th>\n",
       "      <td>Bob</td>\n",
       "      <td>IT</td>\n",
       "    </tr>\n",
       "    <tr>\n",
       "      <th>2</th>\n",
       "      <td>Charlie</td>\n",
       "      <td>Finance</td>\n",
       "    </tr>\n",
       "    <tr>\n",
       "      <th>3</th>\n",
       "      <td>David</td>\n",
       "      <td>IT</td>\n",
       "    </tr>\n",
       "  </tbody>\n",
       "</table>\n",
       "</div>"
      ],
      "text/plain": [
       "      Name Department\n",
       "0    Alice         HR\n",
       "1      Bob         IT\n",
       "2  Charlie    Finance\n",
       "3    David         IT"
      ]
     },
     "execution_count": 73,
     "metadata": {},
     "output_type": "execute_result"
    }
   ],
   "source": [
    "df.iloc[0:4,[0,2]]"
   ]
  },
  {
   "cell_type": "code",
   "execution_count": 75,
   "id": "980f3936-de0c-4de9-9e07-d2f1d8cf450b",
   "metadata": {},
   "outputs": [
    {
     "data": {
      "text/html": [
       "<div>\n",
       "<style scoped>\n",
       "    .dataframe tbody tr th:only-of-type {\n",
       "        vertical-align: middle;\n",
       "    }\n",
       "\n",
       "    .dataframe tbody tr th {\n",
       "        vertical-align: top;\n",
       "    }\n",
       "\n",
       "    .dataframe thead th {\n",
       "        text-align: right;\n",
       "    }\n",
       "</style>\n",
       "<table border=\"1\" class=\"dataframe\">\n",
       "  <thead>\n",
       "    <tr style=\"text-align: right;\">\n",
       "      <th></th>\n",
       "      <th>Name</th>\n",
       "      <th>Department</th>\n",
       "    </tr>\n",
       "  </thead>\n",
       "  <tbody>\n",
       "    <tr>\n",
       "      <th>0</th>\n",
       "      <td>Alice</td>\n",
       "      <td>HR</td>\n",
       "    </tr>\n",
       "    <tr>\n",
       "      <th>1</th>\n",
       "      <td>Bob</td>\n",
       "      <td>IT</td>\n",
       "    </tr>\n",
       "    <tr>\n",
       "      <th>2</th>\n",
       "      <td>Charlie</td>\n",
       "      <td>Finance</td>\n",
       "    </tr>\n",
       "    <tr>\n",
       "      <th>3</th>\n",
       "      <td>David</td>\n",
       "      <td>IT</td>\n",
       "    </tr>\n",
       "    <tr>\n",
       "      <th>4</th>\n",
       "      <td>Eve</td>\n",
       "      <td>HR</td>\n",
       "    </tr>\n",
       "  </tbody>\n",
       "</table>\n",
       "</div>"
      ],
      "text/plain": [
       "      Name Department\n",
       "0    Alice         HR\n",
       "1      Bob         IT\n",
       "2  Charlie    Finance\n",
       "3    David         IT\n",
       "4      Eve         HR"
      ]
     },
     "execution_count": 75,
     "metadata": {},
     "output_type": "execute_result"
    }
   ],
   "source": [
    "df.loc[0:4,['Name','Department']]  # here the major difference is that stop value also included and dont need to remember the index numbers"
   ]
  },
  {
   "cell_type": "code",
   "execution_count": 76,
   "id": "065a31c6-e14a-410c-b112-aca069826a2e",
   "metadata": {},
   "outputs": [
    {
     "data": {
      "text/html": [
       "<div>\n",
       "<style scoped>\n",
       "    .dataframe tbody tr th:only-of-type {\n",
       "        vertical-align: middle;\n",
       "    }\n",
       "\n",
       "    .dataframe tbody tr th {\n",
       "        vertical-align: top;\n",
       "    }\n",
       "\n",
       "    .dataframe thead th {\n",
       "        text-align: right;\n",
       "    }\n",
       "</style>\n",
       "<table border=\"1\" class=\"dataframe\">\n",
       "  <thead>\n",
       "    <tr style=\"text-align: right;\">\n",
       "      <th></th>\n",
       "      <th>Name</th>\n",
       "      <th>Department</th>\n",
       "    </tr>\n",
       "  </thead>\n",
       "  <tbody>\n",
       "    <tr>\n",
       "      <th>0</th>\n",
       "      <td>Alice</td>\n",
       "      <td>HR</td>\n",
       "    </tr>\n",
       "    <tr>\n",
       "      <th>1</th>\n",
       "      <td>Bob</td>\n",
       "      <td>IT</td>\n",
       "    </tr>\n",
       "    <tr>\n",
       "      <th>2</th>\n",
       "      <td>Charlie</td>\n",
       "      <td>Finance</td>\n",
       "    </tr>\n",
       "    <tr>\n",
       "      <th>3</th>\n",
       "      <td>David</td>\n",
       "      <td>IT</td>\n",
       "    </tr>\n",
       "    <tr>\n",
       "      <th>4</th>\n",
       "      <td>Eve</td>\n",
       "      <td>HR</td>\n",
       "    </tr>\n",
       "    <tr>\n",
       "      <th>5</th>\n",
       "      <td>Alice</td>\n",
       "      <td>HR</td>\n",
       "    </tr>\n",
       "  </tbody>\n",
       "</table>\n",
       "</div>"
      ],
      "text/plain": [
       "      Name Department\n",
       "0    Alice         HR\n",
       "1      Bob         IT\n",
       "2  Charlie    Finance\n",
       "3    David         IT\n",
       "4      Eve         HR\n",
       "5    Alice         HR"
      ]
     },
     "execution_count": 76,
     "metadata": {},
     "output_type": "execute_result"
    }
   ],
   "source": [
    "df[['Name','Department']]"
   ]
  },
  {
   "cell_type": "code",
   "execution_count": 79,
   "id": "faf38bbb-216c-4b97-895f-bbbedf39f084",
   "metadata": {},
   "outputs": [
    {
     "data": {
      "text/html": [
       "<div>\n",
       "<style scoped>\n",
       "    .dataframe tbody tr th:only-of-type {\n",
       "        vertical-align: middle;\n",
       "    }\n",
       "\n",
       "    .dataframe tbody tr th {\n",
       "        vertical-align: top;\n",
       "    }\n",
       "\n",
       "    .dataframe thead th {\n",
       "        text-align: right;\n",
       "    }\n",
       "</style>\n",
       "<table border=\"1\" class=\"dataframe\">\n",
       "  <thead>\n",
       "    <tr style=\"text-align: right;\">\n",
       "      <th></th>\n",
       "      <th>Name</th>\n",
       "      <th>Department</th>\n",
       "      <th>Salary</th>\n",
       "    </tr>\n",
       "  </thead>\n",
       "  <tbody>\n",
       "    <tr>\n",
       "      <th>0</th>\n",
       "      <td>Alice</td>\n",
       "      <td>HR</td>\n",
       "      <td>50000.0</td>\n",
       "    </tr>\n",
       "    <tr>\n",
       "      <th>1</th>\n",
       "      <td>Bob</td>\n",
       "      <td>IT</td>\n",
       "      <td>60000.0</td>\n",
       "    </tr>\n",
       "    <tr>\n",
       "      <th>2</th>\n",
       "      <td>Charlie</td>\n",
       "      <td>Finance</td>\n",
       "      <td>70000.0</td>\n",
       "    </tr>\n",
       "    <tr>\n",
       "      <th>3</th>\n",
       "      <td>David</td>\n",
       "      <td>IT</td>\n",
       "      <td>62000.0</td>\n",
       "    </tr>\n",
       "    <tr>\n",
       "      <th>4</th>\n",
       "      <td>Eve</td>\n",
       "      <td>HR</td>\n",
       "      <td>NaN</td>\n",
       "    </tr>\n",
       "    <tr>\n",
       "      <th>5</th>\n",
       "      <td>Alice</td>\n",
       "      <td>HR</td>\n",
       "      <td>50000.0</td>\n",
       "    </tr>\n",
       "  </tbody>\n",
       "</table>\n",
       "</div>"
      ],
      "text/plain": [
       "      Name Department   Salary\n",
       "0    Alice         HR  50000.0\n",
       "1      Bob         IT  60000.0\n",
       "2  Charlie    Finance  70000.0\n",
       "3    David         IT  62000.0\n",
       "4      Eve         HR      NaN\n",
       "5    Alice         HR  50000.0"
      ]
     },
     "execution_count": 79,
     "metadata": {},
     "output_type": "execute_result"
    }
   ],
   "source": [
    "df.drop('Age',axis=1) # it doesn't delete from the original dataframe"
   ]
  },
  {
   "cell_type": "code",
   "execution_count": 80,
   "id": "d95b3025-e8e5-4230-a852-5e4c2531ea03",
   "metadata": {},
   "outputs": [
    {
     "data": {
      "text/html": [
       "<div>\n",
       "<style scoped>\n",
       "    .dataframe tbody tr th:only-of-type {\n",
       "        vertical-align: middle;\n",
       "    }\n",
       "\n",
       "    .dataframe tbody tr th {\n",
       "        vertical-align: top;\n",
       "    }\n",
       "\n",
       "    .dataframe thead th {\n",
       "        text-align: right;\n",
       "    }\n",
       "</style>\n",
       "<table border=\"1\" class=\"dataframe\">\n",
       "  <thead>\n",
       "    <tr style=\"text-align: right;\">\n",
       "      <th></th>\n",
       "      <th>Name</th>\n",
       "      <th>Age</th>\n",
       "      <th>Department</th>\n",
       "      <th>Salary</th>\n",
       "    </tr>\n",
       "  </thead>\n",
       "  <tbody>\n",
       "    <tr>\n",
       "      <th>0</th>\n",
       "      <td>Alice</td>\n",
       "      <td>25.0</td>\n",
       "      <td>HR</td>\n",
       "      <td>50000.0</td>\n",
       "    </tr>\n",
       "    <tr>\n",
       "      <th>1</th>\n",
       "      <td>Bob</td>\n",
       "      <td>30.0</td>\n",
       "      <td>IT</td>\n",
       "      <td>60000.0</td>\n",
       "    </tr>\n",
       "    <tr>\n",
       "      <th>2</th>\n",
       "      <td>Charlie</td>\n",
       "      <td>35.0</td>\n",
       "      <td>Finance</td>\n",
       "      <td>70000.0</td>\n",
       "    </tr>\n",
       "    <tr>\n",
       "      <th>3</th>\n",
       "      <td>David</td>\n",
       "      <td>NaN</td>\n",
       "      <td>IT</td>\n",
       "      <td>62000.0</td>\n",
       "    </tr>\n",
       "    <tr>\n",
       "      <th>4</th>\n",
       "      <td>Eve</td>\n",
       "      <td>29.0</td>\n",
       "      <td>HR</td>\n",
       "      <td>NaN</td>\n",
       "    </tr>\n",
       "    <tr>\n",
       "      <th>5</th>\n",
       "      <td>Alice</td>\n",
       "      <td>25.0</td>\n",
       "      <td>HR</td>\n",
       "      <td>50000.0</td>\n",
       "    </tr>\n",
       "  </tbody>\n",
       "</table>\n",
       "</div>"
      ],
      "text/plain": [
       "      Name   Age Department   Salary\n",
       "0    Alice  25.0         HR  50000.0\n",
       "1      Bob  30.0         IT  60000.0\n",
       "2  Charlie  35.0    Finance  70000.0\n",
       "3    David   NaN         IT  62000.0\n",
       "4      Eve  29.0         HR      NaN\n",
       "5    Alice  25.0         HR  50000.0"
      ]
     },
     "execution_count": 80,
     "metadata": {},
     "output_type": "execute_result"
    }
   ],
   "source": [
    "df"
   ]
  },
  {
   "cell_type": "code",
   "execution_count": 81,
   "id": "4a01528b-3e45-4b76-89d9-f6edc2c1a016",
   "metadata": {},
   "outputs": [
    {
     "data": {
      "text/plain": [
       "(6, 4)"
      ]
     },
     "execution_count": 81,
     "metadata": {},
     "output_type": "execute_result"
    }
   ],
   "source": [
    "df.shape"
   ]
  },
  {
   "cell_type": "code",
   "execution_count": 85,
   "id": "135de146-46e0-485b-9c17-d07cff516a4e",
   "metadata": {},
   "outputs": [
    {
     "name": "stdout",
     "output_type": "stream",
     "text": [
      "<class 'pandas.core.frame.DataFrame'>\n",
      "RangeIndex: 6 entries, 0 to 5\n",
      "Data columns (total 4 columns):\n",
      " #   Column      Non-Null Count  Dtype  \n",
      "---  ------      --------------  -----  \n",
      " 0   Name        6 non-null      object \n",
      " 1   Age         5 non-null      float64\n",
      " 2   Department  6 non-null      object \n",
      " 3   Salary      5 non-null      float64\n",
      "dtypes: float64(2), object(2)\n",
      "memory usage: 324.0+ bytes\n"
     ]
    }
   ],
   "source": [
    "df.info()"
   ]
  },
  {
   "cell_type": "code",
   "execution_count": 86,
   "id": "c4f465c7-7e18-4638-b974-a79620e3bb38",
   "metadata": {},
   "outputs": [
    {
     "data": {
      "text/html": [
       "<div>\n",
       "<style scoped>\n",
       "    .dataframe tbody tr th:only-of-type {\n",
       "        vertical-align: middle;\n",
       "    }\n",
       "\n",
       "    .dataframe tbody tr th {\n",
       "        vertical-align: top;\n",
       "    }\n",
       "\n",
       "    .dataframe thead th {\n",
       "        text-align: right;\n",
       "    }\n",
       "</style>\n",
       "<table border=\"1\" class=\"dataframe\">\n",
       "  <thead>\n",
       "    <tr style=\"text-align: right;\">\n",
       "      <th></th>\n",
       "      <th>Age</th>\n",
       "      <th>Salary</th>\n",
       "    </tr>\n",
       "  </thead>\n",
       "  <tbody>\n",
       "    <tr>\n",
       "      <th>count</th>\n",
       "      <td>5.000000</td>\n",
       "      <td>5.000000</td>\n",
       "    </tr>\n",
       "    <tr>\n",
       "      <th>mean</th>\n",
       "      <td>28.800000</td>\n",
       "      <td>58400.000000</td>\n",
       "    </tr>\n",
       "    <tr>\n",
       "      <th>std</th>\n",
       "      <td>4.147288</td>\n",
       "      <td>8532.291603</td>\n",
       "    </tr>\n",
       "    <tr>\n",
       "      <th>min</th>\n",
       "      <td>25.000000</td>\n",
       "      <td>50000.000000</td>\n",
       "    </tr>\n",
       "    <tr>\n",
       "      <th>25%</th>\n",
       "      <td>25.000000</td>\n",
       "      <td>50000.000000</td>\n",
       "    </tr>\n",
       "    <tr>\n",
       "      <th>50%</th>\n",
       "      <td>29.000000</td>\n",
       "      <td>60000.000000</td>\n",
       "    </tr>\n",
       "    <tr>\n",
       "      <th>75%</th>\n",
       "      <td>30.000000</td>\n",
       "      <td>62000.000000</td>\n",
       "    </tr>\n",
       "    <tr>\n",
       "      <th>max</th>\n",
       "      <td>35.000000</td>\n",
       "      <td>70000.000000</td>\n",
       "    </tr>\n",
       "  </tbody>\n",
       "</table>\n",
       "</div>"
      ],
      "text/plain": [
       "             Age        Salary\n",
       "count   5.000000      5.000000\n",
       "mean   28.800000  58400.000000\n",
       "std     4.147288   8532.291603\n",
       "min    25.000000  50000.000000\n",
       "25%    25.000000  50000.000000\n",
       "50%    29.000000  60000.000000\n",
       "75%    30.000000  62000.000000\n",
       "max    35.000000  70000.000000"
      ]
     },
     "execution_count": 86,
     "metadata": {},
     "output_type": "execute_result"
    }
   ],
   "source": [
    "df.describe()"
   ]
  },
  {
   "cell_type": "code",
   "execution_count": 90,
   "id": "1695de17-9991-4982-9ee0-efbd70065f12",
   "metadata": {},
   "outputs": [],
   "source": [
    "df['Salary'] = df['Salary'] + 500 # Broadcasting"
   ]
  },
  {
   "cell_type": "code",
   "execution_count": 88,
   "id": "981a9345-83a1-423f-9032-d4bc50704310",
   "metadata": {},
   "outputs": [
    {
     "data": {
      "text/plain": [
       "0    50500.0\n",
       "1    60500.0\n",
       "2    70500.0\n",
       "3    62500.0\n",
       "4        NaN\n",
       "5    50500.0\n",
       "Name: Salary, dtype: float64"
      ]
     },
     "execution_count": 88,
     "metadata": {},
     "output_type": "execute_result"
    }
   ],
   "source": [
    "df['Salary']"
   ]
  },
  {
   "cell_type": "code",
   "execution_count": 89,
   "id": "e8e8a0f6-6f2e-4598-b332-3029290cd958",
   "metadata": {},
   "outputs": [
    {
     "data": {
      "text/html": [
       "<div>\n",
       "<style scoped>\n",
       "    .dataframe tbody tr th:only-of-type {\n",
       "        vertical-align: middle;\n",
       "    }\n",
       "\n",
       "    .dataframe tbody tr th {\n",
       "        vertical-align: top;\n",
       "    }\n",
       "\n",
       "    .dataframe thead th {\n",
       "        text-align: right;\n",
       "    }\n",
       "</style>\n",
       "<table border=\"1\" class=\"dataframe\">\n",
       "  <thead>\n",
       "    <tr style=\"text-align: right;\">\n",
       "      <th></th>\n",
       "      <th>Name</th>\n",
       "      <th>Age</th>\n",
       "      <th>Department</th>\n",
       "      <th>Salary</th>\n",
       "    </tr>\n",
       "  </thead>\n",
       "  <tbody>\n",
       "    <tr>\n",
       "      <th>0</th>\n",
       "      <td>Alice</td>\n",
       "      <td>25.0</td>\n",
       "      <td>HR</td>\n",
       "      <td>50500.0</td>\n",
       "    </tr>\n",
       "    <tr>\n",
       "      <th>1</th>\n",
       "      <td>Bob</td>\n",
       "      <td>30.0</td>\n",
       "      <td>IT</td>\n",
       "      <td>60500.0</td>\n",
       "    </tr>\n",
       "    <tr>\n",
       "      <th>2</th>\n",
       "      <td>Charlie</td>\n",
       "      <td>35.0</td>\n",
       "      <td>Finance</td>\n",
       "      <td>70500.0</td>\n",
       "    </tr>\n",
       "    <tr>\n",
       "      <th>3</th>\n",
       "      <td>David</td>\n",
       "      <td>NaN</td>\n",
       "      <td>IT</td>\n",
       "      <td>62500.0</td>\n",
       "    </tr>\n",
       "    <tr>\n",
       "      <th>4</th>\n",
       "      <td>Eve</td>\n",
       "      <td>29.0</td>\n",
       "      <td>HR</td>\n",
       "      <td>NaN</td>\n",
       "    </tr>\n",
       "    <tr>\n",
       "      <th>5</th>\n",
       "      <td>Alice</td>\n",
       "      <td>25.0</td>\n",
       "      <td>HR</td>\n",
       "      <td>50500.0</td>\n",
       "    </tr>\n",
       "  </tbody>\n",
       "</table>\n",
       "</div>"
      ],
      "text/plain": [
       "      Name   Age Department   Salary\n",
       "0    Alice  25.0         HR  50500.0\n",
       "1      Bob  30.0         IT  60500.0\n",
       "2  Charlie  35.0    Finance  70500.0\n",
       "3    David   NaN         IT  62500.0\n",
       "4      Eve  29.0         HR      NaN\n",
       "5    Alice  25.0         HR  50500.0"
      ]
     },
     "execution_count": 89,
     "metadata": {},
     "output_type": "execute_result"
    }
   ],
   "source": [
    "df"
   ]
  },
  {
   "cell_type": "code",
   "execution_count": 91,
   "id": "3b4e5e42-f5b1-4fcd-b218-0001f05ff055",
   "metadata": {},
   "outputs": [],
   "source": [
    "# Renaming columns\n",
    "df.rename(columns = {'Department':'Dept'},inplace = True)"
   ]
  },
  {
   "cell_type": "code",
   "execution_count": 92,
   "id": "3cb64055-1fc1-4025-89c6-6f5d9634f192",
   "metadata": {},
   "outputs": [
    {
     "data": {
      "text/html": [
       "<div>\n",
       "<style scoped>\n",
       "    .dataframe tbody tr th:only-of-type {\n",
       "        vertical-align: middle;\n",
       "    }\n",
       "\n",
       "    .dataframe tbody tr th {\n",
       "        vertical-align: top;\n",
       "    }\n",
       "\n",
       "    .dataframe thead th {\n",
       "        text-align: right;\n",
       "    }\n",
       "</style>\n",
       "<table border=\"1\" class=\"dataframe\">\n",
       "  <thead>\n",
       "    <tr style=\"text-align: right;\">\n",
       "      <th></th>\n",
       "      <th>Name</th>\n",
       "      <th>Age</th>\n",
       "      <th>Dept</th>\n",
       "      <th>Salary</th>\n",
       "    </tr>\n",
       "  </thead>\n",
       "  <tbody>\n",
       "    <tr>\n",
       "      <th>0</th>\n",
       "      <td>Alice</td>\n",
       "      <td>25.0</td>\n",
       "      <td>HR</td>\n",
       "      <td>51000.0</td>\n",
       "    </tr>\n",
       "    <tr>\n",
       "      <th>1</th>\n",
       "      <td>Bob</td>\n",
       "      <td>30.0</td>\n",
       "      <td>IT</td>\n",
       "      <td>61000.0</td>\n",
       "    </tr>\n",
       "    <tr>\n",
       "      <th>2</th>\n",
       "      <td>Charlie</td>\n",
       "      <td>35.0</td>\n",
       "      <td>Finance</td>\n",
       "      <td>71000.0</td>\n",
       "    </tr>\n",
       "    <tr>\n",
       "      <th>3</th>\n",
       "      <td>David</td>\n",
       "      <td>NaN</td>\n",
       "      <td>IT</td>\n",
       "      <td>63000.0</td>\n",
       "    </tr>\n",
       "    <tr>\n",
       "      <th>4</th>\n",
       "      <td>Eve</td>\n",
       "      <td>29.0</td>\n",
       "      <td>HR</td>\n",
       "      <td>NaN</td>\n",
       "    </tr>\n",
       "    <tr>\n",
       "      <th>5</th>\n",
       "      <td>Alice</td>\n",
       "      <td>25.0</td>\n",
       "      <td>HR</td>\n",
       "      <td>51000.0</td>\n",
       "    </tr>\n",
       "  </tbody>\n",
       "</table>\n",
       "</div>"
      ],
      "text/plain": [
       "      Name   Age     Dept   Salary\n",
       "0    Alice  25.0       HR  51000.0\n",
       "1      Bob  30.0       IT  61000.0\n",
       "2  Charlie  35.0  Finance  71000.0\n",
       "3    David   NaN       IT  63000.0\n",
       "4      Eve  29.0       HR      NaN\n",
       "5    Alice  25.0       HR  51000.0"
      ]
     },
     "execution_count": 92,
     "metadata": {},
     "output_type": "execute_result"
    }
   ],
   "source": [
    "df"
   ]
  },
  {
   "cell_type": "code",
   "execution_count": 93,
   "id": "7031331b-4000-4c9d-b4db-305d38b4eae5",
   "metadata": {},
   "outputs": [
    {
     "data": {
      "text/plain": [
       "array(['HR', 'IT', 'Finance'], dtype=object)"
      ]
     },
     "execution_count": 93,
     "metadata": {},
     "output_type": "execute_result"
    }
   ],
   "source": [
    "df['Dept'].unique()"
   ]
  },
  {
   "cell_type": "code",
   "execution_count": 94,
   "id": "c8d212ed-55a7-4113-88d9-7bc7132f5327",
   "metadata": {},
   "outputs": [
    {
     "data": {
      "text/plain": [
       "Dept\n",
       "HR         3\n",
       "IT         2\n",
       "Finance    1\n",
       "Name: count, dtype: int64"
      ]
     },
     "execution_count": 94,
     "metadata": {},
     "output_type": "execute_result"
    }
   ],
   "source": [
    "df['Dept'].value_counts()"
   ]
  },
  {
   "cell_type": "code",
   "execution_count": 95,
   "id": "33ea63a6-011d-4958-bf33-a80bc3ee13ad",
   "metadata": {},
   "outputs": [
    {
     "data": {
      "text/plain": [
       "3"
      ]
     },
     "execution_count": 95,
     "metadata": {},
     "output_type": "execute_result"
    }
   ],
   "source": [
    "df['Dept'].nunique()"
   ]
  },
  {
   "cell_type": "code",
   "execution_count": 96,
   "id": "0c0f0ca1-37c7-4528-add9-bbb02676d957",
   "metadata": {},
   "outputs": [],
   "source": [
    "# Adding a new column\n",
    "df[\"Promoted_Salary\"] = df[\"Salary\"] * 10"
   ]
  },
  {
   "cell_type": "code",
   "execution_count": 97,
   "id": "81cfa199-7955-4d87-9cfa-66e3c539c7b7",
   "metadata": {},
   "outputs": [
    {
     "data": {
      "text/html": [
       "<div>\n",
       "<style scoped>\n",
       "    .dataframe tbody tr th:only-of-type {\n",
       "        vertical-align: middle;\n",
       "    }\n",
       "\n",
       "    .dataframe tbody tr th {\n",
       "        vertical-align: top;\n",
       "    }\n",
       "\n",
       "    .dataframe thead th {\n",
       "        text-align: right;\n",
       "    }\n",
       "</style>\n",
       "<table border=\"1\" class=\"dataframe\">\n",
       "  <thead>\n",
       "    <tr style=\"text-align: right;\">\n",
       "      <th></th>\n",
       "      <th>Name</th>\n",
       "      <th>Age</th>\n",
       "      <th>Dept</th>\n",
       "      <th>Salary</th>\n",
       "      <th>Promoted_Salary</th>\n",
       "    </tr>\n",
       "  </thead>\n",
       "  <tbody>\n",
       "    <tr>\n",
       "      <th>0</th>\n",
       "      <td>Alice</td>\n",
       "      <td>25.0</td>\n",
       "      <td>HR</td>\n",
       "      <td>51000.0</td>\n",
       "      <td>510000.0</td>\n",
       "    </tr>\n",
       "    <tr>\n",
       "      <th>1</th>\n",
       "      <td>Bob</td>\n",
       "      <td>30.0</td>\n",
       "      <td>IT</td>\n",
       "      <td>61000.0</td>\n",
       "      <td>610000.0</td>\n",
       "    </tr>\n",
       "    <tr>\n",
       "      <th>2</th>\n",
       "      <td>Charlie</td>\n",
       "      <td>35.0</td>\n",
       "      <td>Finance</td>\n",
       "      <td>71000.0</td>\n",
       "      <td>710000.0</td>\n",
       "    </tr>\n",
       "    <tr>\n",
       "      <th>3</th>\n",
       "      <td>David</td>\n",
       "      <td>NaN</td>\n",
       "      <td>IT</td>\n",
       "      <td>63000.0</td>\n",
       "      <td>630000.0</td>\n",
       "    </tr>\n",
       "    <tr>\n",
       "      <th>4</th>\n",
       "      <td>Eve</td>\n",
       "      <td>29.0</td>\n",
       "      <td>HR</td>\n",
       "      <td>NaN</td>\n",
       "      <td>NaN</td>\n",
       "    </tr>\n",
       "    <tr>\n",
       "      <th>5</th>\n",
       "      <td>Alice</td>\n",
       "      <td>25.0</td>\n",
       "      <td>HR</td>\n",
       "      <td>51000.0</td>\n",
       "      <td>510000.0</td>\n",
       "    </tr>\n",
       "  </tbody>\n",
       "</table>\n",
       "</div>"
      ],
      "text/plain": [
       "      Name   Age     Dept   Salary  Promoted_Salary\n",
       "0    Alice  25.0       HR  51000.0         510000.0\n",
       "1      Bob  30.0       IT  61000.0         610000.0\n",
       "2  Charlie  35.0  Finance  71000.0         710000.0\n",
       "3    David   NaN       IT  63000.0         630000.0\n",
       "4      Eve  29.0       HR      NaN              NaN\n",
       "5    Alice  25.0       HR  51000.0         510000.0"
      ]
     },
     "execution_count": 97,
     "metadata": {},
     "output_type": "execute_result"
    }
   ],
   "source": [
    "df"
   ]
  },
  {
   "cell_type": "code",
   "execution_count": 98,
   "id": "85062f9b-f99c-42b6-bf60-f0880f7f2697",
   "metadata": {},
   "outputs": [
    {
     "data": {
      "text/plain": [
       "Name               0\n",
       "Age                1\n",
       "Dept               0\n",
       "Salary             1\n",
       "Promoted_Salary    1\n",
       "dtype: int64"
      ]
     },
     "execution_count": 98,
     "metadata": {},
     "output_type": "execute_result"
    }
   ],
   "source": [
    "# Data Cleaning\n",
    "df.isnull().sum()"
   ]
  },
  {
   "cell_type": "code",
   "execution_count": 99,
   "id": "f47353d3-38ae-426b-a38a-cafe8b1476c2",
   "metadata": {},
   "outputs": [
    {
     "data": {
      "text/html": [
       "<div>\n",
       "<style scoped>\n",
       "    .dataframe tbody tr th:only-of-type {\n",
       "        vertical-align: middle;\n",
       "    }\n",
       "\n",
       "    .dataframe tbody tr th {\n",
       "        vertical-align: top;\n",
       "    }\n",
       "\n",
       "    .dataframe thead th {\n",
       "        text-align: right;\n",
       "    }\n",
       "</style>\n",
       "<table border=\"1\" class=\"dataframe\">\n",
       "  <thead>\n",
       "    <tr style=\"text-align: right;\">\n",
       "      <th></th>\n",
       "      <th>Name</th>\n",
       "      <th>Age</th>\n",
       "      <th>Dept</th>\n",
       "      <th>Salary</th>\n",
       "      <th>Promoted_Salary</th>\n",
       "    </tr>\n",
       "  </thead>\n",
       "  <tbody>\n",
       "    <tr>\n",
       "      <th>0</th>\n",
       "      <td>Alice</td>\n",
       "      <td>25.0</td>\n",
       "      <td>HR</td>\n",
       "      <td>51000.0</td>\n",
       "      <td>510000.0</td>\n",
       "    </tr>\n",
       "    <tr>\n",
       "      <th>1</th>\n",
       "      <td>Bob</td>\n",
       "      <td>30.0</td>\n",
       "      <td>IT</td>\n",
       "      <td>61000.0</td>\n",
       "      <td>610000.0</td>\n",
       "    </tr>\n",
       "    <tr>\n",
       "      <th>2</th>\n",
       "      <td>Charlie</td>\n",
       "      <td>35.0</td>\n",
       "      <td>Finance</td>\n",
       "      <td>71000.0</td>\n",
       "      <td>710000.0</td>\n",
       "    </tr>\n",
       "    <tr>\n",
       "      <th>5</th>\n",
       "      <td>Alice</td>\n",
       "      <td>25.0</td>\n",
       "      <td>HR</td>\n",
       "      <td>51000.0</td>\n",
       "      <td>510000.0</td>\n",
       "    </tr>\n",
       "  </tbody>\n",
       "</table>\n",
       "</div>"
      ],
      "text/plain": [
       "      Name   Age     Dept   Salary  Promoted_Salary\n",
       "0    Alice  25.0       HR  51000.0         510000.0\n",
       "1      Bob  30.0       IT  61000.0         610000.0\n",
       "2  Charlie  35.0  Finance  71000.0         710000.0\n",
       "5    Alice  25.0       HR  51000.0         510000.0"
      ]
     },
     "execution_count": 99,
     "metadata": {},
     "output_type": "execute_result"
    }
   ],
   "source": [
    "df.dropna(how = \"any\") # any row that had any null value"
   ]
  },
  {
   "cell_type": "code",
   "execution_count": 100,
   "id": "20fd6a74-7510-4667-968d-81d05ebb5312",
   "metadata": {},
   "outputs": [
    {
     "data": {
      "text/html": [
       "<div>\n",
       "<style scoped>\n",
       "    .dataframe tbody tr th:only-of-type {\n",
       "        vertical-align: middle;\n",
       "    }\n",
       "\n",
       "    .dataframe tbody tr th {\n",
       "        vertical-align: top;\n",
       "    }\n",
       "\n",
       "    .dataframe thead th {\n",
       "        text-align: right;\n",
       "    }\n",
       "</style>\n",
       "<table border=\"1\" class=\"dataframe\">\n",
       "  <thead>\n",
       "    <tr style=\"text-align: right;\">\n",
       "      <th></th>\n",
       "      <th>Name</th>\n",
       "      <th>Age</th>\n",
       "      <th>Dept</th>\n",
       "      <th>Salary</th>\n",
       "      <th>Promoted_Salary</th>\n",
       "    </tr>\n",
       "  </thead>\n",
       "  <tbody>\n",
       "    <tr>\n",
       "      <th>0</th>\n",
       "      <td>Alice</td>\n",
       "      <td>25.0</td>\n",
       "      <td>HR</td>\n",
       "      <td>51000.0</td>\n",
       "      <td>510000.0</td>\n",
       "    </tr>\n",
       "    <tr>\n",
       "      <th>1</th>\n",
       "      <td>Bob</td>\n",
       "      <td>30.0</td>\n",
       "      <td>IT</td>\n",
       "      <td>61000.0</td>\n",
       "      <td>610000.0</td>\n",
       "    </tr>\n",
       "    <tr>\n",
       "      <th>2</th>\n",
       "      <td>Charlie</td>\n",
       "      <td>35.0</td>\n",
       "      <td>Finance</td>\n",
       "      <td>71000.0</td>\n",
       "      <td>710000.0</td>\n",
       "    </tr>\n",
       "    <tr>\n",
       "      <th>3</th>\n",
       "      <td>David</td>\n",
       "      <td>NaN</td>\n",
       "      <td>IT</td>\n",
       "      <td>63000.0</td>\n",
       "      <td>630000.0</td>\n",
       "    </tr>\n",
       "    <tr>\n",
       "      <th>4</th>\n",
       "      <td>Eve</td>\n",
       "      <td>29.0</td>\n",
       "      <td>HR</td>\n",
       "      <td>NaN</td>\n",
       "      <td>NaN</td>\n",
       "    </tr>\n",
       "    <tr>\n",
       "      <th>5</th>\n",
       "      <td>Alice</td>\n",
       "      <td>25.0</td>\n",
       "      <td>HR</td>\n",
       "      <td>51000.0</td>\n",
       "      <td>510000.0</td>\n",
       "    </tr>\n",
       "  </tbody>\n",
       "</table>\n",
       "</div>"
      ],
      "text/plain": [
       "      Name   Age     Dept   Salary  Promoted_Salary\n",
       "0    Alice  25.0       HR  51000.0         510000.0\n",
       "1      Bob  30.0       IT  61000.0         610000.0\n",
       "2  Charlie  35.0  Finance  71000.0         710000.0\n",
       "3    David   NaN       IT  63000.0         630000.0\n",
       "4      Eve  29.0       HR      NaN              NaN\n",
       "5    Alice  25.0       HR  51000.0         510000.0"
      ]
     },
     "execution_count": 100,
     "metadata": {},
     "output_type": "execute_result"
    }
   ],
   "source": [
    "df.dropna(how = \"all\") # if all the values in any row are null then we drop that row"
   ]
  },
  {
   "cell_type": "code",
   "execution_count": 101,
   "id": "04504ba5-c8a2-45e2-b7f4-c74231e97977",
   "metadata": {},
   "outputs": [
    {
     "data": {
      "text/html": [
       "<div>\n",
       "<style scoped>\n",
       "    .dataframe tbody tr th:only-of-type {\n",
       "        vertical-align: middle;\n",
       "    }\n",
       "\n",
       "    .dataframe tbody tr th {\n",
       "        vertical-align: top;\n",
       "    }\n",
       "\n",
       "    .dataframe thead th {\n",
       "        text-align: right;\n",
       "    }\n",
       "</style>\n",
       "<table border=\"1\" class=\"dataframe\">\n",
       "  <thead>\n",
       "    <tr style=\"text-align: right;\">\n",
       "      <th></th>\n",
       "      <th>Name</th>\n",
       "      <th>Age</th>\n",
       "      <th>Dept</th>\n",
       "      <th>Salary</th>\n",
       "      <th>Promoted_Salary</th>\n",
       "    </tr>\n",
       "  </thead>\n",
       "  <tbody>\n",
       "    <tr>\n",
       "      <th>0</th>\n",
       "      <td>Alice</td>\n",
       "      <td>25.0</td>\n",
       "      <td>HR</td>\n",
       "      <td>51000.0</td>\n",
       "      <td>510000.0</td>\n",
       "    </tr>\n",
       "    <tr>\n",
       "      <th>1</th>\n",
       "      <td>Bob</td>\n",
       "      <td>30.0</td>\n",
       "      <td>IT</td>\n",
       "      <td>61000.0</td>\n",
       "      <td>610000.0</td>\n",
       "    </tr>\n",
       "    <tr>\n",
       "      <th>2</th>\n",
       "      <td>Charlie</td>\n",
       "      <td>35.0</td>\n",
       "      <td>Finance</td>\n",
       "      <td>71000.0</td>\n",
       "      <td>710000.0</td>\n",
       "    </tr>\n",
       "    <tr>\n",
       "      <th>3</th>\n",
       "      <td>David</td>\n",
       "      <td>NaN</td>\n",
       "      <td>IT</td>\n",
       "      <td>63000.0</td>\n",
       "      <td>630000.0</td>\n",
       "    </tr>\n",
       "    <tr>\n",
       "      <th>4</th>\n",
       "      <td>Eve</td>\n",
       "      <td>29.0</td>\n",
       "      <td>HR</td>\n",
       "      <td>NaN</td>\n",
       "      <td>NaN</td>\n",
       "    </tr>\n",
       "    <tr>\n",
       "      <th>5</th>\n",
       "      <td>Alice</td>\n",
       "      <td>25.0</td>\n",
       "      <td>HR</td>\n",
       "      <td>51000.0</td>\n",
       "      <td>510000.0</td>\n",
       "    </tr>\n",
       "  </tbody>\n",
       "</table>\n",
       "</div>"
      ],
      "text/plain": [
       "      Name   Age     Dept   Salary  Promoted_Salary\n",
       "0    Alice  25.0       HR  51000.0         510000.0\n",
       "1      Bob  30.0       IT  61000.0         610000.0\n",
       "2  Charlie  35.0  Finance  71000.0         710000.0\n",
       "3    David   NaN       IT  63000.0         630000.0\n",
       "4      Eve  29.0       HR      NaN              NaN\n",
       "5    Alice  25.0       HR  51000.0         510000.0"
      ]
     },
     "execution_count": 101,
     "metadata": {},
     "output_type": "execute_result"
    }
   ],
   "source": [
    "df"
   ]
  },
  {
   "cell_type": "code",
   "execution_count": 102,
   "id": "4e4d0035-0bcf-49de-88af-c35fefa8b9fa",
   "metadata": {},
   "outputs": [
    {
     "data": {
      "text/plain": [
       "0    25.0\n",
       "1    30.0\n",
       "2    35.0\n",
       "3    28.8\n",
       "4    29.0\n",
       "5    25.0\n",
       "Name: Age, dtype: float64"
      ]
     },
     "execution_count": 102,
     "metadata": {},
     "output_type": "execute_result"
    }
   ],
   "source": [
    "df['Age'].fillna(df['Age'].mean())"
   ]
  },
  {
   "cell_type": "code",
   "execution_count": 103,
   "id": "081dd58b-4fbf-4439-83dc-fa06f96cf3c3",
   "metadata": {},
   "outputs": [
    {
     "data": {
      "text/plain": [
       "0    51000.0\n",
       "1    61000.0\n",
       "2    71000.0\n",
       "3    63000.0\n",
       "4    61000.0\n",
       "5    51000.0\n",
       "Name: Salary, dtype: float64"
      ]
     },
     "execution_count": 103,
     "metadata": {},
     "output_type": "execute_result"
    }
   ],
   "source": [
    "df['Salary'].fillna(df['Salary'].median())"
   ]
  },
  {
   "cell_type": "code",
   "execution_count": 105,
   "id": "93a08d1a-47bc-463f-be74-0bc226a8f7f0",
   "metadata": {},
   "outputs": [
    {
     "name": "stderr",
     "output_type": "stream",
     "text": [
      "C:\\Users\\99895\\AppData\\Local\\Temp\\ipykernel_4212\\1265906299.py:1: FutureWarning: Series.fillna with 'method' is deprecated and will raise in a future version. Use obj.ffill() or obj.bfill() instead.\n",
      "  df['Age'].fillna(method='ffill')\n"
     ]
    },
    {
     "data": {
      "text/plain": [
       "0    25.0\n",
       "1    30.0\n",
       "2    35.0\n",
       "3    35.0\n",
       "4    29.0\n",
       "5    25.0\n",
       "Name: Age, dtype: float64"
      ]
     },
     "execution_count": 105,
     "metadata": {},
     "output_type": "execute_result"
    }
   ],
   "source": [
    "df['Age'].fillna(method='ffill')"
   ]
  },
  {
   "cell_type": "code",
   "execution_count": 106,
   "id": "ca1b6816-207d-47fd-968c-4866ed2d8067",
   "metadata": {},
   "outputs": [
    {
     "name": "stderr",
     "output_type": "stream",
     "text": [
      "C:\\Users\\99895\\AppData\\Local\\Temp\\ipykernel_4212\\3224957626.py:1: FutureWarning: Series.fillna with 'method' is deprecated and will raise in a future version. Use obj.ffill() or obj.bfill() instead.\n",
      "  df['Age'].fillna(method='bfill')\n"
     ]
    },
    {
     "data": {
      "text/plain": [
       "0    25.0\n",
       "1    30.0\n",
       "2    35.0\n",
       "3    29.0\n",
       "4    29.0\n",
       "5    25.0\n",
       "Name: Age, dtype: float64"
      ]
     },
     "execution_count": 106,
     "metadata": {},
     "output_type": "execute_result"
    }
   ],
   "source": [
    "df['Age'].fillna(method='bfill')"
   ]
  },
  {
   "cell_type": "code",
   "execution_count": 108,
   "id": "b048fd13-1c27-4487-ab10-34728886d0a6",
   "metadata": {},
   "outputs": [],
   "source": [
    "df['Name']=df['Name'].replace('Charlie','Rose')"
   ]
  },
  {
   "cell_type": "code",
   "execution_count": 109,
   "id": "a3f94db5-2806-4344-b221-4ea98f1128c1",
   "metadata": {},
   "outputs": [
    {
     "data": {
      "text/html": [
       "<div>\n",
       "<style scoped>\n",
       "    .dataframe tbody tr th:only-of-type {\n",
       "        vertical-align: middle;\n",
       "    }\n",
       "\n",
       "    .dataframe tbody tr th {\n",
       "        vertical-align: top;\n",
       "    }\n",
       "\n",
       "    .dataframe thead th {\n",
       "        text-align: right;\n",
       "    }\n",
       "</style>\n",
       "<table border=\"1\" class=\"dataframe\">\n",
       "  <thead>\n",
       "    <tr style=\"text-align: right;\">\n",
       "      <th></th>\n",
       "      <th>Name</th>\n",
       "      <th>Age</th>\n",
       "      <th>Dept</th>\n",
       "      <th>Salary</th>\n",
       "      <th>Promoted_Salary</th>\n",
       "    </tr>\n",
       "  </thead>\n",
       "  <tbody>\n",
       "    <tr>\n",
       "      <th>0</th>\n",
       "      <td>Alice</td>\n",
       "      <td>25.0</td>\n",
       "      <td>HR</td>\n",
       "      <td>51000.0</td>\n",
       "      <td>510000.0</td>\n",
       "    </tr>\n",
       "    <tr>\n",
       "      <th>1</th>\n",
       "      <td>Bob</td>\n",
       "      <td>30.0</td>\n",
       "      <td>IT</td>\n",
       "      <td>61000.0</td>\n",
       "      <td>610000.0</td>\n",
       "    </tr>\n",
       "    <tr>\n",
       "      <th>2</th>\n",
       "      <td>Rose</td>\n",
       "      <td>35.0</td>\n",
       "      <td>Finance</td>\n",
       "      <td>71000.0</td>\n",
       "      <td>710000.0</td>\n",
       "    </tr>\n",
       "    <tr>\n",
       "      <th>3</th>\n",
       "      <td>David</td>\n",
       "      <td>NaN</td>\n",
       "      <td>IT</td>\n",
       "      <td>63000.0</td>\n",
       "      <td>630000.0</td>\n",
       "    </tr>\n",
       "    <tr>\n",
       "      <th>4</th>\n",
       "      <td>Eve</td>\n",
       "      <td>29.0</td>\n",
       "      <td>HR</td>\n",
       "      <td>NaN</td>\n",
       "      <td>NaN</td>\n",
       "    </tr>\n",
       "    <tr>\n",
       "      <th>5</th>\n",
       "      <td>Alice</td>\n",
       "      <td>25.0</td>\n",
       "      <td>HR</td>\n",
       "      <td>51000.0</td>\n",
       "      <td>510000.0</td>\n",
       "    </tr>\n",
       "  </tbody>\n",
       "</table>\n",
       "</div>"
      ],
      "text/plain": [
       "    Name   Age     Dept   Salary  Promoted_Salary\n",
       "0  Alice  25.0       HR  51000.0         510000.0\n",
       "1    Bob  30.0       IT  61000.0         610000.0\n",
       "2   Rose  35.0  Finance  71000.0         710000.0\n",
       "3  David   NaN       IT  63000.0         630000.0\n",
       "4    Eve  29.0       HR      NaN              NaN\n",
       "5  Alice  25.0       HR  51000.0         510000.0"
      ]
     },
     "execution_count": 109,
     "metadata": {},
     "output_type": "execute_result"
    }
   ],
   "source": [
    "df"
   ]
  },
  {
   "cell_type": "code",
   "execution_count": 110,
   "id": "97e02871-e54f-4f14-8610-4ccfacf8acdd",
   "metadata": {},
   "outputs": [
    {
     "data": {
      "text/html": [
       "<div>\n",
       "<style scoped>\n",
       "    .dataframe tbody tr th:only-of-type {\n",
       "        vertical-align: middle;\n",
       "    }\n",
       "\n",
       "    .dataframe tbody tr th {\n",
       "        vertical-align: top;\n",
       "    }\n",
       "\n",
       "    .dataframe thead th {\n",
       "        text-align: right;\n",
       "    }\n",
       "</style>\n",
       "<table border=\"1\" class=\"dataframe\">\n",
       "  <thead>\n",
       "    <tr style=\"text-align: right;\">\n",
       "      <th></th>\n",
       "      <th>Name</th>\n",
       "      <th>Age</th>\n",
       "      <th>Dept</th>\n",
       "      <th>Salary</th>\n",
       "      <th>Promoted_Salary</th>\n",
       "    </tr>\n",
       "  </thead>\n",
       "  <tbody>\n",
       "    <tr>\n",
       "      <th>5</th>\n",
       "      <td>Alice</td>\n",
       "      <td>25.0</td>\n",
       "      <td>HR</td>\n",
       "      <td>51000.0</td>\n",
       "      <td>510000.0</td>\n",
       "    </tr>\n",
       "  </tbody>\n",
       "</table>\n",
       "</div>"
      ],
      "text/plain": [
       "    Name   Age Dept   Salary  Promoted_Salary\n",
       "5  Alice  25.0   HR  51000.0         510000.0"
      ]
     },
     "execution_count": 110,
     "metadata": {},
     "output_type": "execute_result"
    }
   ],
   "source": [
    "df[df.duplicated()]"
   ]
  },
  {
   "cell_type": "code",
   "execution_count": 111,
   "id": "83c1a88a-cbb8-4ea5-8601-1ae21079c1a1",
   "metadata": {},
   "outputs": [
    {
     "data": {
      "text/html": [
       "<div>\n",
       "<style scoped>\n",
       "    .dataframe tbody tr th:only-of-type {\n",
       "        vertical-align: middle;\n",
       "    }\n",
       "\n",
       "    .dataframe tbody tr th {\n",
       "        vertical-align: top;\n",
       "    }\n",
       "\n",
       "    .dataframe thead th {\n",
       "        text-align: right;\n",
       "    }\n",
       "</style>\n",
       "<table border=\"1\" class=\"dataframe\">\n",
       "  <thead>\n",
       "    <tr style=\"text-align: right;\">\n",
       "      <th></th>\n",
       "      <th>Name</th>\n",
       "      <th>Age</th>\n",
       "      <th>Dept</th>\n",
       "      <th>Salary</th>\n",
       "      <th>Promoted_Salary</th>\n",
       "    </tr>\n",
       "  </thead>\n",
       "  <tbody>\n",
       "    <tr>\n",
       "      <th>0</th>\n",
       "      <td>Alice</td>\n",
       "      <td>25.0</td>\n",
       "      <td>HR</td>\n",
       "      <td>51000.0</td>\n",
       "      <td>510000.0</td>\n",
       "    </tr>\n",
       "  </tbody>\n",
       "</table>\n",
       "</div>"
      ],
      "text/plain": [
       "    Name   Age Dept   Salary  Promoted_Salary\n",
       "0  Alice  25.0   HR  51000.0         510000.0"
      ]
     },
     "execution_count": 111,
     "metadata": {},
     "output_type": "execute_result"
    }
   ],
   "source": [
    "df_dup=df[df.duplicated(keep=\"last\")]\n",
    "df_dup"
   ]
  },
  {
   "cell_type": "code",
   "execution_count": 114,
   "id": "170ed3ad-d2f9-43ab-91ee-cc49e6763e7f",
   "metadata": {},
   "outputs": [],
   "source": [
    "df=df.drop_duplicates()"
   ]
  },
  {
   "cell_type": "code",
   "execution_count": 115,
   "id": "b1a27b64-5d39-44a4-a412-b100a4c3f8a6",
   "metadata": {},
   "outputs": [
    {
     "name": "stderr",
     "output_type": "stream",
     "text": [
      "C:\\Users\\99895\\AppData\\Local\\Temp\\ipykernel_4212\\2946683122.py:1: SettingWithCopyWarning: \n",
      "A value is trying to be set on a copy of a slice from a DataFrame.\n",
      "Try using .loc[row_indexer,col_indexer] = value instead\n",
      "\n",
      "See the caveats in the documentation: https://pandas.pydata.org/pandas-docs/stable/user_guide/indexing.html#returning-a-view-versus-a-copy\n",
      "  df['Promoted_Salary'] = df['Promoted_Salary'].apply(lambda x:x/10 if x > 650000 else x)\n"
     ]
    }
   ],
   "source": [
    "df['Promoted_Salary'] = df['Promoted_Salary'].apply(lambda x:x/10 if x > 650000 else x)"
   ]
  },
  {
   "cell_type": "code",
   "execution_count": 116,
   "id": "76155064-f6d5-4726-9260-eb0b01f85c7b",
   "metadata": {},
   "outputs": [
    {
     "data": {
      "text/html": [
       "<div>\n",
       "<style scoped>\n",
       "    .dataframe tbody tr th:only-of-type {\n",
       "        vertical-align: middle;\n",
       "    }\n",
       "\n",
       "    .dataframe tbody tr th {\n",
       "        vertical-align: top;\n",
       "    }\n",
       "\n",
       "    .dataframe thead th {\n",
       "        text-align: right;\n",
       "    }\n",
       "</style>\n",
       "<table border=\"1\" class=\"dataframe\">\n",
       "  <thead>\n",
       "    <tr style=\"text-align: right;\">\n",
       "      <th></th>\n",
       "      <th>Name</th>\n",
       "      <th>Age</th>\n",
       "      <th>Dept</th>\n",
       "      <th>Salary</th>\n",
       "      <th>Promoted_Salary</th>\n",
       "    </tr>\n",
       "  </thead>\n",
       "  <tbody>\n",
       "    <tr>\n",
       "      <th>0</th>\n",
       "      <td>Alice</td>\n",
       "      <td>25.0</td>\n",
       "      <td>HR</td>\n",
       "      <td>51000.0</td>\n",
       "      <td>510000.0</td>\n",
       "    </tr>\n",
       "    <tr>\n",
       "      <th>1</th>\n",
       "      <td>Bob</td>\n",
       "      <td>30.0</td>\n",
       "      <td>IT</td>\n",
       "      <td>61000.0</td>\n",
       "      <td>610000.0</td>\n",
       "    </tr>\n",
       "    <tr>\n",
       "      <th>2</th>\n",
       "      <td>Rose</td>\n",
       "      <td>35.0</td>\n",
       "      <td>Finance</td>\n",
       "      <td>71000.0</td>\n",
       "      <td>71000.0</td>\n",
       "    </tr>\n",
       "    <tr>\n",
       "      <th>3</th>\n",
       "      <td>David</td>\n",
       "      <td>NaN</td>\n",
       "      <td>IT</td>\n",
       "      <td>63000.0</td>\n",
       "      <td>630000.0</td>\n",
       "    </tr>\n",
       "    <tr>\n",
       "      <th>4</th>\n",
       "      <td>Eve</td>\n",
       "      <td>29.0</td>\n",
       "      <td>HR</td>\n",
       "      <td>NaN</td>\n",
       "      <td>NaN</td>\n",
       "    </tr>\n",
       "  </tbody>\n",
       "</table>\n",
       "</div>"
      ],
      "text/plain": [
       "    Name   Age     Dept   Salary  Promoted_Salary\n",
       "0  Alice  25.0       HR  51000.0         510000.0\n",
       "1    Bob  30.0       IT  61000.0         610000.0\n",
       "2   Rose  35.0  Finance  71000.0          71000.0\n",
       "3  David   NaN       IT  63000.0         630000.0\n",
       "4    Eve  29.0       HR      NaN              NaN"
      ]
     },
     "execution_count": 116,
     "metadata": {},
     "output_type": "execute_result"
    }
   ],
   "source": [
    "df"
   ]
  },
  {
   "cell_type": "code",
   "execution_count": 123,
   "id": "cdc2da50-b3d9-4120-a015-f17a7ec28017",
   "metadata": {},
   "outputs": [],
   "source": [
    "#name = \"alice_fernandes\"\n",
    "#df[[\"first_name\", \"last_name\"]] = df[\"name\"].str.split(\"_\",expand=True)"
   ]
  },
  {
   "cell_type": "code",
   "execution_count": 124,
   "id": "17ac04f1-7c8a-4ad9-b7fe-530786dbe287",
   "metadata": {},
   "outputs": [
    {
     "name": "stderr",
     "output_type": "stream",
     "text": [
      "C:\\Users\\99895\\AppData\\Local\\Temp\\ipykernel_4212\\3281115099.py:5: SettingWithCopyWarning: \n",
      "A value is trying to be set on a copy of a slice from a DataFrame.\n",
      "Try using .loc[row_indexer,col_indexer] = value instead\n",
      "\n",
      "See the caveats in the documentation: https://pandas.pydata.org/pandas-docs/stable/user_guide/indexing.html#returning-a-view-versus-a-copy\n",
      "  df['Age'] = df['Age'].apply(multiplying_age)\n"
     ]
    }
   ],
   "source": [
    "# apply and lambda\n",
    "def multiplying_age(x):\n",
    "    return x * 2\n",
    "\n",
    "df['Age'] = df['Age'].apply(multiplying_age)"
   ]
  },
  {
   "cell_type": "code",
   "execution_count": 125,
   "id": "7dc7f6c5-2b7c-43ba-b359-a840948f49d5",
   "metadata": {},
   "outputs": [
    {
     "data": {
      "text/html": [
       "<div>\n",
       "<style scoped>\n",
       "    .dataframe tbody tr th:only-of-type {\n",
       "        vertical-align: middle;\n",
       "    }\n",
       "\n",
       "    .dataframe tbody tr th {\n",
       "        vertical-align: top;\n",
       "    }\n",
       "\n",
       "    .dataframe thead th {\n",
       "        text-align: right;\n",
       "    }\n",
       "</style>\n",
       "<table border=\"1\" class=\"dataframe\">\n",
       "  <thead>\n",
       "    <tr style=\"text-align: right;\">\n",
       "      <th></th>\n",
       "      <th>Name</th>\n",
       "      <th>Age</th>\n",
       "      <th>Dept</th>\n",
       "      <th>Salary</th>\n",
       "      <th>Promoted_Salary</th>\n",
       "    </tr>\n",
       "  </thead>\n",
       "  <tbody>\n",
       "    <tr>\n",
       "      <th>0</th>\n",
       "      <td>Alice</td>\n",
       "      <td>50.0</td>\n",
       "      <td>HR</td>\n",
       "      <td>51000.0</td>\n",
       "      <td>510000.0</td>\n",
       "    </tr>\n",
       "    <tr>\n",
       "      <th>1</th>\n",
       "      <td>Bob</td>\n",
       "      <td>60.0</td>\n",
       "      <td>IT</td>\n",
       "      <td>61000.0</td>\n",
       "      <td>610000.0</td>\n",
       "    </tr>\n",
       "    <tr>\n",
       "      <th>2</th>\n",
       "      <td>Rose</td>\n",
       "      <td>70.0</td>\n",
       "      <td>Finance</td>\n",
       "      <td>71000.0</td>\n",
       "      <td>71000.0</td>\n",
       "    </tr>\n",
       "    <tr>\n",
       "      <th>3</th>\n",
       "      <td>David</td>\n",
       "      <td>NaN</td>\n",
       "      <td>IT</td>\n",
       "      <td>63000.0</td>\n",
       "      <td>630000.0</td>\n",
       "    </tr>\n",
       "    <tr>\n",
       "      <th>4</th>\n",
       "      <td>Eve</td>\n",
       "      <td>58.0</td>\n",
       "      <td>HR</td>\n",
       "      <td>NaN</td>\n",
       "      <td>NaN</td>\n",
       "    </tr>\n",
       "  </tbody>\n",
       "</table>\n",
       "</div>"
      ],
      "text/plain": [
       "    Name   Age     Dept   Salary  Promoted_Salary\n",
       "0  Alice  50.0       HR  51000.0         510000.0\n",
       "1    Bob  60.0       IT  61000.0         610000.0\n",
       "2   Rose  70.0  Finance  71000.0          71000.0\n",
       "3  David   NaN       IT  63000.0         630000.0\n",
       "4    Eve  58.0       HR      NaN              NaN"
      ]
     },
     "execution_count": 125,
     "metadata": {},
     "output_type": "execute_result"
    }
   ],
   "source": [
    "df"
   ]
  },
  {
   "cell_type": "code",
   "execution_count": 126,
   "id": "aec4d005-618c-4444-88d2-f1c33b006a82",
   "metadata": {},
   "outputs": [
    {
     "name": "stderr",
     "output_type": "stream",
     "text": [
      "C:\\Users\\99895\\AppData\\Local\\Temp\\ipykernel_4212\\896099530.py:1: SettingWithCopyWarning: \n",
      "A value is trying to be set on a copy of a slice from a DataFrame.\n",
      "Try using .loc[row_indexer,col_indexer] = value instead\n",
      "\n",
      "See the caveats in the documentation: https://pandas.pydata.org/pandas-docs/stable/user_guide/indexing.html#returning-a-view-versus-a-copy\n",
      "  df['Age'] = df['Age'].apply(lambda x:x/2)\n"
     ]
    }
   ],
   "source": [
    "df['Age'] = df['Age'].apply(lambda x:x/2)"
   ]
  },
  {
   "cell_type": "code",
   "execution_count": 127,
   "id": "364d7610-c71b-4855-850a-94176f60c666",
   "metadata": {},
   "outputs": [
    {
     "data": {
      "text/html": [
       "<div>\n",
       "<style scoped>\n",
       "    .dataframe tbody tr th:only-of-type {\n",
       "        vertical-align: middle;\n",
       "    }\n",
       "\n",
       "    .dataframe tbody tr th {\n",
       "        vertical-align: top;\n",
       "    }\n",
       "\n",
       "    .dataframe thead th {\n",
       "        text-align: right;\n",
       "    }\n",
       "</style>\n",
       "<table border=\"1\" class=\"dataframe\">\n",
       "  <thead>\n",
       "    <tr style=\"text-align: right;\">\n",
       "      <th></th>\n",
       "      <th>Name</th>\n",
       "      <th>Age</th>\n",
       "      <th>Dept</th>\n",
       "      <th>Salary</th>\n",
       "      <th>Promoted_Salary</th>\n",
       "    </tr>\n",
       "  </thead>\n",
       "  <tbody>\n",
       "    <tr>\n",
       "      <th>0</th>\n",
       "      <td>Alice</td>\n",
       "      <td>25.0</td>\n",
       "      <td>HR</td>\n",
       "      <td>51000.0</td>\n",
       "      <td>510000.0</td>\n",
       "    </tr>\n",
       "    <tr>\n",
       "      <th>1</th>\n",
       "      <td>Bob</td>\n",
       "      <td>30.0</td>\n",
       "      <td>IT</td>\n",
       "      <td>61000.0</td>\n",
       "      <td>610000.0</td>\n",
       "    </tr>\n",
       "    <tr>\n",
       "      <th>2</th>\n",
       "      <td>Rose</td>\n",
       "      <td>35.0</td>\n",
       "      <td>Finance</td>\n",
       "      <td>71000.0</td>\n",
       "      <td>71000.0</td>\n",
       "    </tr>\n",
       "    <tr>\n",
       "      <th>3</th>\n",
       "      <td>David</td>\n",
       "      <td>NaN</td>\n",
       "      <td>IT</td>\n",
       "      <td>63000.0</td>\n",
       "      <td>630000.0</td>\n",
       "    </tr>\n",
       "    <tr>\n",
       "      <th>4</th>\n",
       "      <td>Eve</td>\n",
       "      <td>29.0</td>\n",
       "      <td>HR</td>\n",
       "      <td>NaN</td>\n",
       "      <td>NaN</td>\n",
       "    </tr>\n",
       "  </tbody>\n",
       "</table>\n",
       "</div>"
      ],
      "text/plain": [
       "    Name   Age     Dept   Salary  Promoted_Salary\n",
       "0  Alice  25.0       HR  51000.0         510000.0\n",
       "1    Bob  30.0       IT  61000.0         610000.0\n",
       "2   Rose  35.0  Finance  71000.0          71000.0\n",
       "3  David   NaN       IT  63000.0         630000.0\n",
       "4    Eve  29.0       HR      NaN              NaN"
      ]
     },
     "execution_count": 127,
     "metadata": {},
     "output_type": "execute_result"
    }
   ],
   "source": [
    "df"
   ]
  },
  {
   "cell_type": "code",
   "execution_count": 128,
   "id": "eaa0174e-ab72-4865-a5f2-b944cb47b797",
   "metadata": {},
   "outputs": [
    {
     "data": {
      "text/html": [
       "<div>\n",
       "<style scoped>\n",
       "    .dataframe tbody tr th:only-of-type {\n",
       "        vertical-align: middle;\n",
       "    }\n",
       "\n",
       "    .dataframe tbody tr th {\n",
       "        vertical-align: top;\n",
       "    }\n",
       "\n",
       "    .dataframe thead th {\n",
       "        text-align: right;\n",
       "    }\n",
       "</style>\n",
       "<table border=\"1\" class=\"dataframe\">\n",
       "  <thead>\n",
       "    <tr style=\"text-align: right;\">\n",
       "      <th></th>\n",
       "      <th>Dept</th>\n",
       "      <th>Location</th>\n",
       "      <th>Manager</th>\n",
       "    </tr>\n",
       "  </thead>\n",
       "  <tbody>\n",
       "    <tr>\n",
       "      <th>0</th>\n",
       "      <td>HR</td>\n",
       "      <td>New York</td>\n",
       "      <td>Laura</td>\n",
       "    </tr>\n",
       "    <tr>\n",
       "      <th>1</th>\n",
       "      <td>IT</td>\n",
       "      <td>San Francisco</td>\n",
       "      <td>Steve</td>\n",
       "    </tr>\n",
       "    <tr>\n",
       "      <th>2</th>\n",
       "      <td>Finance</td>\n",
       "      <td>Chicago</td>\n",
       "      <td>Nina</td>\n",
       "    </tr>\n",
       "  </tbody>\n",
       "</table>\n",
       "</div>"
      ],
      "text/plain": [
       "      Dept       Location Manager\n",
       "0       HR       New York   Laura\n",
       "1       IT  San Francisco   Steve\n",
       "2  Finance        Chicago    Nina"
      ]
     },
     "execution_count": 128,
     "metadata": {},
     "output_type": "execute_result"
    }
   ],
   "source": [
    "# joins and merges\n",
    "department_info = {\n",
    "    \"Dept\": [\"HR\", \"IT\", \"Finance\"],\n",
    "    \"Location\": [\"New York\", \"San Francisco\", \"Chicago\"],\n",
    "    \"Manager\": [\"Laura\", \"Steve\", \"Nina\"]\n",
    "}\n",
    "df2 = pd.DataFrame(department_info)\n",
    "df2"
   ]
  },
  {
   "cell_type": "code",
   "execution_count": 129,
   "id": "6c6e9df5-31c0-49c8-831b-b8d64f79c243",
   "metadata": {},
   "outputs": [
    {
     "data": {
      "text/html": [
       "<div>\n",
       "<style scoped>\n",
       "    .dataframe tbody tr th:only-of-type {\n",
       "        vertical-align: middle;\n",
       "    }\n",
       "\n",
       "    .dataframe tbody tr th {\n",
       "        vertical-align: top;\n",
       "    }\n",
       "\n",
       "    .dataframe thead th {\n",
       "        text-align: right;\n",
       "    }\n",
       "</style>\n",
       "<table border=\"1\" class=\"dataframe\">\n",
       "  <thead>\n",
       "    <tr style=\"text-align: right;\">\n",
       "      <th></th>\n",
       "      <th>Name</th>\n",
       "      <th>Age</th>\n",
       "      <th>Dept</th>\n",
       "      <th>Salary</th>\n",
       "      <th>Promoted_Salary</th>\n",
       "      <th>Location</th>\n",
       "      <th>Manager</th>\n",
       "    </tr>\n",
       "  </thead>\n",
       "  <tbody>\n",
       "    <tr>\n",
       "      <th>0</th>\n",
       "      <td>Alice</td>\n",
       "      <td>25.0</td>\n",
       "      <td>HR</td>\n",
       "      <td>51000.0</td>\n",
       "      <td>510000.0</td>\n",
       "      <td>NaN</td>\n",
       "      <td>NaN</td>\n",
       "    </tr>\n",
       "    <tr>\n",
       "      <th>1</th>\n",
       "      <td>Bob</td>\n",
       "      <td>30.0</td>\n",
       "      <td>IT</td>\n",
       "      <td>61000.0</td>\n",
       "      <td>610000.0</td>\n",
       "      <td>NaN</td>\n",
       "      <td>NaN</td>\n",
       "    </tr>\n",
       "    <tr>\n",
       "      <th>2</th>\n",
       "      <td>Rose</td>\n",
       "      <td>35.0</td>\n",
       "      <td>Finance</td>\n",
       "      <td>71000.0</td>\n",
       "      <td>71000.0</td>\n",
       "      <td>NaN</td>\n",
       "      <td>NaN</td>\n",
       "    </tr>\n",
       "    <tr>\n",
       "      <th>3</th>\n",
       "      <td>David</td>\n",
       "      <td>NaN</td>\n",
       "      <td>IT</td>\n",
       "      <td>63000.0</td>\n",
       "      <td>630000.0</td>\n",
       "      <td>NaN</td>\n",
       "      <td>NaN</td>\n",
       "    </tr>\n",
       "    <tr>\n",
       "      <th>4</th>\n",
       "      <td>Eve</td>\n",
       "      <td>29.0</td>\n",
       "      <td>HR</td>\n",
       "      <td>NaN</td>\n",
       "      <td>NaN</td>\n",
       "      <td>NaN</td>\n",
       "      <td>NaN</td>\n",
       "    </tr>\n",
       "    <tr>\n",
       "      <th>0</th>\n",
       "      <td>NaN</td>\n",
       "      <td>NaN</td>\n",
       "      <td>HR</td>\n",
       "      <td>NaN</td>\n",
       "      <td>NaN</td>\n",
       "      <td>New York</td>\n",
       "      <td>Laura</td>\n",
       "    </tr>\n",
       "    <tr>\n",
       "      <th>1</th>\n",
       "      <td>NaN</td>\n",
       "      <td>NaN</td>\n",
       "      <td>IT</td>\n",
       "      <td>NaN</td>\n",
       "      <td>NaN</td>\n",
       "      <td>San Francisco</td>\n",
       "      <td>Steve</td>\n",
       "    </tr>\n",
       "    <tr>\n",
       "      <th>2</th>\n",
       "      <td>NaN</td>\n",
       "      <td>NaN</td>\n",
       "      <td>Finance</td>\n",
       "      <td>NaN</td>\n",
       "      <td>NaN</td>\n",
       "      <td>Chicago</td>\n",
       "      <td>Nina</td>\n",
       "    </tr>\n",
       "  </tbody>\n",
       "</table>\n",
       "</div>"
      ],
      "text/plain": [
       "    Name   Age     Dept   Salary  Promoted_Salary       Location Manager\n",
       "0  Alice  25.0       HR  51000.0         510000.0            NaN     NaN\n",
       "1    Bob  30.0       IT  61000.0         610000.0            NaN     NaN\n",
       "2   Rose  35.0  Finance  71000.0          71000.0            NaN     NaN\n",
       "3  David   NaN       IT  63000.0         630000.0            NaN     NaN\n",
       "4    Eve  29.0       HR      NaN              NaN            NaN     NaN\n",
       "0    NaN   NaN       HR      NaN              NaN       New York   Laura\n",
       "1    NaN   NaN       IT      NaN              NaN  San Francisco   Steve\n",
       "2    NaN   NaN  Finance      NaN              NaN        Chicago    Nina"
      ]
     },
     "execution_count": 129,
     "metadata": {},
     "output_type": "execute_result"
    }
   ],
   "source": [
    "# Concat\n",
    "pd.concat([df,df2])"
   ]
  },
  {
   "cell_type": "code",
   "execution_count": 130,
   "id": "7611bb15-f2b4-4ef9-ae57-ac8ab710c4dc",
   "metadata": {},
   "outputs": [
    {
     "data": {
      "text/html": [
       "<div>\n",
       "<style scoped>\n",
       "    .dataframe tbody tr th:only-of-type {\n",
       "        vertical-align: middle;\n",
       "    }\n",
       "\n",
       "    .dataframe tbody tr th {\n",
       "        vertical-align: top;\n",
       "    }\n",
       "\n",
       "    .dataframe thead th {\n",
       "        text-align: right;\n",
       "    }\n",
       "</style>\n",
       "<table border=\"1\" class=\"dataframe\">\n",
       "  <thead>\n",
       "    <tr style=\"text-align: right;\">\n",
       "      <th></th>\n",
       "      <th>Name</th>\n",
       "      <th>Age</th>\n",
       "      <th>Dept</th>\n",
       "      <th>Salary</th>\n",
       "      <th>Promoted_Salary</th>\n",
       "      <th>Dept</th>\n",
       "      <th>Location</th>\n",
       "      <th>Manager</th>\n",
       "    </tr>\n",
       "  </thead>\n",
       "  <tbody>\n",
       "    <tr>\n",
       "      <th>0</th>\n",
       "      <td>Alice</td>\n",
       "      <td>25.0</td>\n",
       "      <td>HR</td>\n",
       "      <td>51000.0</td>\n",
       "      <td>510000.0</td>\n",
       "      <td>HR</td>\n",
       "      <td>New York</td>\n",
       "      <td>Laura</td>\n",
       "    </tr>\n",
       "    <tr>\n",
       "      <th>1</th>\n",
       "      <td>Bob</td>\n",
       "      <td>30.0</td>\n",
       "      <td>IT</td>\n",
       "      <td>61000.0</td>\n",
       "      <td>610000.0</td>\n",
       "      <td>IT</td>\n",
       "      <td>San Francisco</td>\n",
       "      <td>Steve</td>\n",
       "    </tr>\n",
       "    <tr>\n",
       "      <th>2</th>\n",
       "      <td>Rose</td>\n",
       "      <td>35.0</td>\n",
       "      <td>Finance</td>\n",
       "      <td>71000.0</td>\n",
       "      <td>71000.0</td>\n",
       "      <td>Finance</td>\n",
       "      <td>Chicago</td>\n",
       "      <td>Nina</td>\n",
       "    </tr>\n",
       "    <tr>\n",
       "      <th>3</th>\n",
       "      <td>David</td>\n",
       "      <td>NaN</td>\n",
       "      <td>IT</td>\n",
       "      <td>63000.0</td>\n",
       "      <td>630000.0</td>\n",
       "      <td>NaN</td>\n",
       "      <td>NaN</td>\n",
       "      <td>NaN</td>\n",
       "    </tr>\n",
       "    <tr>\n",
       "      <th>4</th>\n",
       "      <td>Eve</td>\n",
       "      <td>29.0</td>\n",
       "      <td>HR</td>\n",
       "      <td>NaN</td>\n",
       "      <td>NaN</td>\n",
       "      <td>NaN</td>\n",
       "      <td>NaN</td>\n",
       "      <td>NaN</td>\n",
       "    </tr>\n",
       "  </tbody>\n",
       "</table>\n",
       "</div>"
      ],
      "text/plain": [
       "    Name   Age     Dept   Salary  Promoted_Salary     Dept       Location  \\\n",
       "0  Alice  25.0       HR  51000.0         510000.0       HR       New York   \n",
       "1    Bob  30.0       IT  61000.0         610000.0       IT  San Francisco   \n",
       "2   Rose  35.0  Finance  71000.0          71000.0  Finance        Chicago   \n",
       "3  David   NaN       IT  63000.0         630000.0      NaN            NaN   \n",
       "4    Eve  29.0       HR      NaN              NaN      NaN            NaN   \n",
       "\n",
       "  Manager  \n",
       "0   Laura  \n",
       "1   Steve  \n",
       "2    Nina  \n",
       "3     NaN  \n",
       "4     NaN  "
      ]
     },
     "execution_count": 130,
     "metadata": {},
     "output_type": "execute_result"
    }
   ],
   "source": [
    "pd.concat([df,df2],axis=1)"
   ]
  },
  {
   "cell_type": "code",
   "execution_count": 131,
   "id": "7637b178-f9c0-49e8-b680-c24104e68aa3",
   "metadata": {},
   "outputs": [
    {
     "data": {
      "text/html": [
       "<div>\n",
       "<style scoped>\n",
       "    .dataframe tbody tr th:only-of-type {\n",
       "        vertical-align: middle;\n",
       "    }\n",
       "\n",
       "    .dataframe tbody tr th {\n",
       "        vertical-align: top;\n",
       "    }\n",
       "\n",
       "    .dataframe thead th {\n",
       "        text-align: right;\n",
       "    }\n",
       "</style>\n",
       "<table border=\"1\" class=\"dataframe\">\n",
       "  <thead>\n",
       "    <tr style=\"text-align: right;\">\n",
       "      <th></th>\n",
       "      <th>Name</th>\n",
       "      <th>Age</th>\n",
       "      <th>Dept</th>\n",
       "      <th>Salary</th>\n",
       "      <th>Promoted_Salary</th>\n",
       "      <th>Location</th>\n",
       "      <th>Manager</th>\n",
       "    </tr>\n",
       "  </thead>\n",
       "  <tbody>\n",
       "    <tr>\n",
       "      <th>0</th>\n",
       "      <td>Alice</td>\n",
       "      <td>25.0</td>\n",
       "      <td>HR</td>\n",
       "      <td>51000.0</td>\n",
       "      <td>510000.0</td>\n",
       "      <td>New York</td>\n",
       "      <td>Laura</td>\n",
       "    </tr>\n",
       "    <tr>\n",
       "      <th>1</th>\n",
       "      <td>Bob</td>\n",
       "      <td>30.0</td>\n",
       "      <td>IT</td>\n",
       "      <td>61000.0</td>\n",
       "      <td>610000.0</td>\n",
       "      <td>San Francisco</td>\n",
       "      <td>Steve</td>\n",
       "    </tr>\n",
       "    <tr>\n",
       "      <th>2</th>\n",
       "      <td>Rose</td>\n",
       "      <td>35.0</td>\n",
       "      <td>Finance</td>\n",
       "      <td>71000.0</td>\n",
       "      <td>71000.0</td>\n",
       "      <td>Chicago</td>\n",
       "      <td>Nina</td>\n",
       "    </tr>\n",
       "    <tr>\n",
       "      <th>3</th>\n",
       "      <td>David</td>\n",
       "      <td>NaN</td>\n",
       "      <td>IT</td>\n",
       "      <td>63000.0</td>\n",
       "      <td>630000.0</td>\n",
       "      <td>San Francisco</td>\n",
       "      <td>Steve</td>\n",
       "    </tr>\n",
       "    <tr>\n",
       "      <th>4</th>\n",
       "      <td>Eve</td>\n",
       "      <td>29.0</td>\n",
       "      <td>HR</td>\n",
       "      <td>NaN</td>\n",
       "      <td>NaN</td>\n",
       "      <td>New York</td>\n",
       "      <td>Laura</td>\n",
       "    </tr>\n",
       "  </tbody>\n",
       "</table>\n",
       "</div>"
      ],
      "text/plain": [
       "    Name   Age     Dept   Salary  Promoted_Salary       Location Manager\n",
       "0  Alice  25.0       HR  51000.0         510000.0       New York   Laura\n",
       "1    Bob  30.0       IT  61000.0         610000.0  San Francisco   Steve\n",
       "2   Rose  35.0  Finance  71000.0          71000.0        Chicago    Nina\n",
       "3  David   NaN       IT  63000.0         630000.0  San Francisco   Steve\n",
       "4    Eve  29.0       HR      NaN              NaN       New York   Laura"
      ]
     },
     "execution_count": 131,
     "metadata": {},
     "output_type": "execute_result"
    }
   ],
   "source": [
    "pd.merge(df,df2,on = 'Dept')"
   ]
  },
  {
   "cell_type": "markdown",
   "id": "a3e84ca2-2383-4446-9d8c-f853dd7ede7c",
   "metadata": {},
   "source": [
    "## 3️⃣ Working with a Realistic Dataset"
   ]
  },
  {
   "cell_type": "markdown",
   "id": "1d5c1863-28c0-468b-8da7-63b6cfc5bf9f",
   "metadata": {},
   "source": [
    "##### Importing File"
   ]
  },
  {
   "cell_type": "code",
   "execution_count": 143,
   "id": "ffab1cfc-7de0-447d-91cb-e8bb75210df1",
   "metadata": {},
   "outputs": [
    {
     "data": {
      "text/html": [
       "<div>\n",
       "<style scoped>\n",
       "    .dataframe tbody tr th:only-of-type {\n",
       "        vertical-align: middle;\n",
       "    }\n",
       "\n",
       "    .dataframe tbody tr th {\n",
       "        vertical-align: top;\n",
       "    }\n",
       "\n",
       "    .dataframe thead th {\n",
       "        text-align: right;\n",
       "    }\n",
       "</style>\n",
       "<table border=\"1\" class=\"dataframe\">\n",
       "  <thead>\n",
       "    <tr style=\"text-align: right;\">\n",
       "      <th></th>\n",
       "      <th>date</th>\n",
       "      <th>price</th>\n",
       "      <th>bedrooms</th>\n",
       "      <th>bathrooms</th>\n",
       "      <th>sqft_living</th>\n",
       "      <th>sqft_lot</th>\n",
       "      <th>floors</th>\n",
       "      <th>waterfront</th>\n",
       "      <th>view</th>\n",
       "      <th>condition</th>\n",
       "      <th>sqft_above</th>\n",
       "      <th>sqft_basement</th>\n",
       "      <th>yr_built</th>\n",
       "      <th>yr_renovated</th>\n",
       "      <th>street</th>\n",
       "      <th>city</th>\n",
       "      <th>statezip</th>\n",
       "      <th>country</th>\n",
       "    </tr>\n",
       "  </thead>\n",
       "  <tbody>\n",
       "    <tr>\n",
       "      <th>0</th>\n",
       "      <td>2020-01-01</td>\n",
       "      <td>171958</td>\n",
       "      <td>5</td>\n",
       "      <td>2.3</td>\n",
       "      <td>828</td>\n",
       "      <td>10810</td>\n",
       "      <td>2.9</td>\n",
       "      <td>1</td>\n",
       "      <td>4</td>\n",
       "      <td>4</td>\n",
       "      <td>2382</td>\n",
       "      <td>876</td>\n",
       "      <td>1978</td>\n",
       "      <td>0</td>\n",
       "      <td>3332 Oak St</td>\n",
       "      <td>Bellevue</td>\n",
       "      <td>WA 98103</td>\n",
       "      <td>USA</td>\n",
       "    </tr>\n",
       "    <tr>\n",
       "      <th>1</th>\n",
       "      <td>2020-01-02</td>\n",
       "      <td>721155</td>\n",
       "      <td>1</td>\n",
       "      <td>4.5</td>\n",
       "      <td>3091</td>\n",
       "      <td>10455</td>\n",
       "      <td>1.5</td>\n",
       "      <td>0</td>\n",
       "      <td>3</td>\n",
       "      <td>4</td>\n",
       "      <td>1496</td>\n",
       "      <td>1938</td>\n",
       "      <td>1976</td>\n",
       "      <td>2015</td>\n",
       "      <td>3348 Oak St</td>\n",
       "      <td>Seattle</td>\n",
       "      <td>WA 98004</td>\n",
       "      <td>USA</td>\n",
       "    </tr>\n",
       "    <tr>\n",
       "      <th>2</th>\n",
       "      <td>2020-01-03</td>\n",
       "      <td>181932</td>\n",
       "      <td>1</td>\n",
       "      <td>4.7</td>\n",
       "      <td>3330</td>\n",
       "      <td>10063</td>\n",
       "      <td>2.7</td>\n",
       "      <td>0</td>\n",
       "      <td>0</td>\n",
       "      <td>1</td>\n",
       "      <td>5790</td>\n",
       "      <td>1371</td>\n",
       "      <td>1939</td>\n",
       "      <td>2010</td>\n",
       "      <td>1987 Elm St</td>\n",
       "      <td>Bellevue</td>\n",
       "      <td>WA 98103</td>\n",
       "      <td>USA</td>\n",
       "    </tr>\n",
       "    <tr>\n",
       "      <th>3</th>\n",
       "      <td>2020-01-04</td>\n",
       "      <td>1464414</td>\n",
       "      <td>3</td>\n",
       "      <td>4.4</td>\n",
       "      <td>3544</td>\n",
       "      <td>1834</td>\n",
       "      <td>2.7</td>\n",
       "      <td>1</td>\n",
       "      <td>1</td>\n",
       "      <td>5</td>\n",
       "      <td>3970</td>\n",
       "      <td>1381</td>\n",
       "      <td>1990</td>\n",
       "      <td>1990</td>\n",
       "      <td>3545 Cedar St</td>\n",
       "      <td>Seattle</td>\n",
       "      <td>WA 98402</td>\n",
       "      <td>USA</td>\n",
       "    </tr>\n",
       "    <tr>\n",
       "      <th>4</th>\n",
       "      <td>2020-01-05</td>\n",
       "      <td>309178</td>\n",
       "      <td>4</td>\n",
       "      <td>1.1</td>\n",
       "      <td>1920</td>\n",
       "      <td>2724</td>\n",
       "      <td>2.5</td>\n",
       "      <td>1</td>\n",
       "      <td>2</td>\n",
       "      <td>3</td>\n",
       "      <td>5753</td>\n",
       "      <td>1079</td>\n",
       "      <td>1920</td>\n",
       "      <td>0</td>\n",
       "      <td>6980 Pine St</td>\n",
       "      <td>Tacoma</td>\n",
       "      <td>WA 98402</td>\n",
       "      <td>USA</td>\n",
       "    </tr>\n",
       "  </tbody>\n",
       "</table>\n",
       "</div>"
      ],
      "text/plain": [
       "         date    price  bedrooms  bathrooms  sqft_living  sqft_lot  floors  \\\n",
       "0  2020-01-01   171958         5        2.3          828     10810     2.9   \n",
       "1  2020-01-02   721155         1        4.5         3091     10455     1.5   \n",
       "2  2020-01-03   181932         1        4.7         3330     10063     2.7   \n",
       "3  2020-01-04  1464414         3        4.4         3544      1834     2.7   \n",
       "4  2020-01-05   309178         4        1.1         1920      2724     2.5   \n",
       "\n",
       "   waterfront  view  condition  sqft_above  sqft_basement  yr_built  \\\n",
       "0           1     4          4        2382            876      1978   \n",
       "1           0     3          4        1496           1938      1976   \n",
       "2           0     0          1        5790           1371      1939   \n",
       "3           1     1          5        3970           1381      1990   \n",
       "4           1     2          3        5753           1079      1920   \n",
       "\n",
       "   yr_renovated         street      city  statezip country  \n",
       "0             0    3332 Oak St  Bellevue  WA 98103     USA  \n",
       "1          2015    3348 Oak St   Seattle  WA 98004     USA  \n",
       "2          2010    1987 Elm St  Bellevue  WA 98103     USA  \n",
       "3          1990  3545 Cedar St   Seattle  WA 98402     USA  \n",
       "4             0   6980 Pine St    Tacoma  WA 98402     USA  "
      ]
     },
     "execution_count": 143,
     "metadata": {},
     "output_type": "execute_result"
    }
   ],
   "source": [
    "housing_df = pd.read_csv(\"housing_sample_2000_v2.csv\")\n",
    "housing_df.head()"
   ]
  },
  {
   "cell_type": "code",
   "execution_count": 144,
   "id": "d58814f6-e26e-41a5-9342-aad3fed7f5c5",
   "metadata": {},
   "outputs": [
    {
     "data": {
      "text/plain": [
       "(2000, 18)"
      ]
     },
     "execution_count": 144,
     "metadata": {},
     "output_type": "execute_result"
    }
   ],
   "source": [
    "housing_df.shape"
   ]
  },
  {
   "cell_type": "code",
   "execution_count": 145,
   "id": "06210154-cb39-4cfa-ae56-cd3816b35830",
   "metadata": {},
   "outputs": [
    {
     "name": "stdout",
     "output_type": "stream",
     "text": [
      "<class 'pandas.core.frame.DataFrame'>\n",
      "RangeIndex: 2000 entries, 0 to 1999\n",
      "Data columns (total 18 columns):\n",
      " #   Column         Non-Null Count  Dtype  \n",
      "---  ------         --------------  -----  \n",
      " 0   date           2000 non-null   object \n",
      " 1   price          2000 non-null   int64  \n",
      " 2   bedrooms       2000 non-null   int64  \n",
      " 3   bathrooms      2000 non-null   float64\n",
      " 4   sqft_living    2000 non-null   int64  \n",
      " 5   sqft_lot       2000 non-null   int64  \n",
      " 6   floors         2000 non-null   float64\n",
      " 7   waterfront     2000 non-null   int64  \n",
      " 8   view           2000 non-null   int64  \n",
      " 9   condition      2000 non-null   int64  \n",
      " 10  sqft_above     2000 non-null   int64  \n",
      " 11  sqft_basement  2000 non-null   int64  \n",
      " 12  yr_built       2000 non-null   int64  \n",
      " 13  yr_renovated   2000 non-null   int64  \n",
      " 14  street         2000 non-null   object \n",
      " 15  city           2000 non-null   object \n",
      " 16  statezip       2000 non-null   object \n",
      " 17  country        2000 non-null   object \n",
      "dtypes: float64(2), int64(11), object(5)\n",
      "memory usage: 281.4+ KB\n"
     ]
    }
   ],
   "source": [
    "housing_df.info()"
   ]
  },
  {
   "cell_type": "code",
   "execution_count": 146,
   "id": "d32b8527-7d4c-4ed4-aabb-e3db4d6d54c5",
   "metadata": {},
   "outputs": [],
   "source": [
    "housing_df['date'] = pd.to_datetime(housing_df['date'])"
   ]
  },
  {
   "cell_type": "code",
   "execution_count": 147,
   "id": "ceb93473-92eb-42f9-bdf7-311e29d640b5",
   "metadata": {},
   "outputs": [
    {
     "name": "stdout",
     "output_type": "stream",
     "text": [
      "<class 'pandas.core.frame.DataFrame'>\n",
      "RangeIndex: 2000 entries, 0 to 1999\n",
      "Data columns (total 18 columns):\n",
      " #   Column         Non-Null Count  Dtype         \n",
      "---  ------         --------------  -----         \n",
      " 0   date           2000 non-null   datetime64[ns]\n",
      " 1   price          2000 non-null   int64         \n",
      " 2   bedrooms       2000 non-null   int64         \n",
      " 3   bathrooms      2000 non-null   float64       \n",
      " 4   sqft_living    2000 non-null   int64         \n",
      " 5   sqft_lot       2000 non-null   int64         \n",
      " 6   floors         2000 non-null   float64       \n",
      " 7   waterfront     2000 non-null   int64         \n",
      " 8   view           2000 non-null   int64         \n",
      " 9   condition      2000 non-null   int64         \n",
      " 10  sqft_above     2000 non-null   int64         \n",
      " 11  sqft_basement  2000 non-null   int64         \n",
      " 12  yr_built       2000 non-null   int64         \n",
      " 13  yr_renovated   2000 non-null   int64         \n",
      " 14  street         2000 non-null   object        \n",
      " 15  city           2000 non-null   object        \n",
      " 16  statezip       2000 non-null   object        \n",
      " 17  country        2000 non-null   object        \n",
      "dtypes: datetime64[ns](1), float64(2), int64(11), object(4)\n",
      "memory usage: 281.4+ KB\n"
     ]
    }
   ],
   "source": [
    "data.info()"
   ]
  },
  {
   "cell_type": "code",
   "execution_count": 148,
   "id": "d7fd540d-8ce5-449c-8b14-b95830e4f700",
   "metadata": {},
   "outputs": [
    {
     "data": {
      "text/html": [
       "<div>\n",
       "<style scoped>\n",
       "    .dataframe tbody tr th:only-of-type {\n",
       "        vertical-align: middle;\n",
       "    }\n",
       "\n",
       "    .dataframe tbody tr th {\n",
       "        vertical-align: top;\n",
       "    }\n",
       "\n",
       "    .dataframe thead th {\n",
       "        text-align: right;\n",
       "    }\n",
       "</style>\n",
       "<table border=\"1\" class=\"dataframe\">\n",
       "  <thead>\n",
       "    <tr style=\"text-align: right;\">\n",
       "      <th></th>\n",
       "      <th>date</th>\n",
       "      <th>price</th>\n",
       "      <th>bedrooms</th>\n",
       "      <th>bathrooms</th>\n",
       "      <th>sqft_living</th>\n",
       "      <th>sqft_lot</th>\n",
       "      <th>floors</th>\n",
       "      <th>waterfront</th>\n",
       "      <th>view</th>\n",
       "      <th>condition</th>\n",
       "      <th>sqft_above</th>\n",
       "      <th>sqft_basement</th>\n",
       "      <th>yr_built</th>\n",
       "      <th>yr_renovated</th>\n",
       "    </tr>\n",
       "  </thead>\n",
       "  <tbody>\n",
       "    <tr>\n",
       "      <th>count</th>\n",
       "      <td>2000</td>\n",
       "      <td>2.000000e+03</td>\n",
       "      <td>2000.000000</td>\n",
       "      <td>2000.000000</td>\n",
       "      <td>2000.000000</td>\n",
       "      <td>2000.000000</td>\n",
       "      <td>2000.000000</td>\n",
       "      <td>2000.000000</td>\n",
       "      <td>2000.000000</td>\n",
       "      <td>2000.000000</td>\n",
       "      <td>2000.000000</td>\n",
       "      <td>2000.000000</td>\n",
       "      <td>2000.000000</td>\n",
       "      <td>2000.000000</td>\n",
       "    </tr>\n",
       "    <tr>\n",
       "      <th>mean</th>\n",
       "      <td>2022-09-26 12:00:00</td>\n",
       "      <td>7.784653e+05</td>\n",
       "      <td>4.987500</td>\n",
       "      <td>2.990850</td>\n",
       "      <td>4204.175000</td>\n",
       "      <td>10360.929000</td>\n",
       "      <td>1.983350</td>\n",
       "      <td>0.519000</td>\n",
       "      <td>2.009500</td>\n",
       "      <td>2.963500</td>\n",
       "      <td>3168.449500</td>\n",
       "      <td>1026.792000</td>\n",
       "      <td>1960.413000</td>\n",
       "      <td>1683.252500</td>\n",
       "    </tr>\n",
       "    <tr>\n",
       "      <th>min</th>\n",
       "      <td>2020-01-01 00:00:00</td>\n",
       "      <td>5.012600e+04</td>\n",
       "      <td>1.000000</td>\n",
       "      <td>1.000000</td>\n",
       "      <td>512.000000</td>\n",
       "      <td>1002.000000</td>\n",
       "      <td>1.000000</td>\n",
       "      <td>0.000000</td>\n",
       "      <td>0.000000</td>\n",
       "      <td>1.000000</td>\n",
       "      <td>400.000000</td>\n",
       "      <td>2.000000</td>\n",
       "      <td>1900.000000</td>\n",
       "      <td>0.000000</td>\n",
       "    </tr>\n",
       "    <tr>\n",
       "      <th>25%</th>\n",
       "      <td>2021-05-14 18:00:00</td>\n",
       "      <td>4.244552e+05</td>\n",
       "      <td>3.000000</td>\n",
       "      <td>2.000000</td>\n",
       "      <td>2372.000000</td>\n",
       "      <td>5432.250000</td>\n",
       "      <td>1.500000</td>\n",
       "      <td>0.000000</td>\n",
       "      <td>1.000000</td>\n",
       "      <td>2.000000</td>\n",
       "      <td>1736.250000</td>\n",
       "      <td>552.000000</td>\n",
       "      <td>1930.000000</td>\n",
       "      <td>1990.000000</td>\n",
       "    </tr>\n",
       "    <tr>\n",
       "      <th>50%</th>\n",
       "      <td>2022-09-26 12:00:00</td>\n",
       "      <td>7.779635e+05</td>\n",
       "      <td>5.000000</td>\n",
       "      <td>3.000000</td>\n",
       "      <td>4223.500000</td>\n",
       "      <td>10529.500000</td>\n",
       "      <td>2.000000</td>\n",
       "      <td>1.000000</td>\n",
       "      <td>2.000000</td>\n",
       "      <td>3.000000</td>\n",
       "      <td>3172.500000</td>\n",
       "      <td>1049.500000</td>\n",
       "      <td>1960.000000</td>\n",
       "      <td>2010.000000</td>\n",
       "    </tr>\n",
       "    <tr>\n",
       "      <th>75%</th>\n",
       "      <td>2024-02-08 06:00:00</td>\n",
       "      <td>1.136101e+06</td>\n",
       "      <td>7.000000</td>\n",
       "      <td>4.000000</td>\n",
       "      <td>5991.250000</td>\n",
       "      <td>15038.500000</td>\n",
       "      <td>2.500000</td>\n",
       "      <td>1.000000</td>\n",
       "      <td>3.000000</td>\n",
       "      <td>4.000000</td>\n",
       "      <td>4582.250000</td>\n",
       "      <td>1527.000000</td>\n",
       "      <td>1991.000000</td>\n",
       "      <td>2015.000000</td>\n",
       "    </tr>\n",
       "    <tr>\n",
       "      <th>max</th>\n",
       "      <td>2025-06-22 00:00:00</td>\n",
       "      <td>1.498685e+06</td>\n",
       "      <td>9.000000</td>\n",
       "      <td>5.000000</td>\n",
       "      <td>7993.000000</td>\n",
       "      <td>19976.000000</td>\n",
       "      <td>3.000000</td>\n",
       "      <td>1.000000</td>\n",
       "      <td>4.000000</td>\n",
       "      <td>5.000000</td>\n",
       "      <td>5997.000000</td>\n",
       "      <td>1999.000000</td>\n",
       "      <td>2021.000000</td>\n",
       "      <td>2020.000000</td>\n",
       "    </tr>\n",
       "    <tr>\n",
       "      <th>std</th>\n",
       "      <td>NaN</td>\n",
       "      <td>4.176812e+05</td>\n",
       "      <td>2.582378</td>\n",
       "      <td>1.143414</td>\n",
       "      <td>2139.806157</td>\n",
       "      <td>5510.502497</td>\n",
       "      <td>0.566682</td>\n",
       "      <td>0.499764</td>\n",
       "      <td>1.420359</td>\n",
       "      <td>1.410022</td>\n",
       "      <td>1624.710311</td>\n",
       "      <td>570.568843</td>\n",
       "      <td>35.214009</td>\n",
       "      <td>738.973968</td>\n",
       "    </tr>\n",
       "  </tbody>\n",
       "</table>\n",
       "</div>"
      ],
      "text/plain": [
       "                      date         price     bedrooms    bathrooms  \\\n",
       "count                 2000  2.000000e+03  2000.000000  2000.000000   \n",
       "mean   2022-09-26 12:00:00  7.784653e+05     4.987500     2.990850   \n",
       "min    2020-01-01 00:00:00  5.012600e+04     1.000000     1.000000   \n",
       "25%    2021-05-14 18:00:00  4.244552e+05     3.000000     2.000000   \n",
       "50%    2022-09-26 12:00:00  7.779635e+05     5.000000     3.000000   \n",
       "75%    2024-02-08 06:00:00  1.136101e+06     7.000000     4.000000   \n",
       "max    2025-06-22 00:00:00  1.498685e+06     9.000000     5.000000   \n",
       "std                    NaN  4.176812e+05     2.582378     1.143414   \n",
       "\n",
       "       sqft_living      sqft_lot       floors   waterfront         view  \\\n",
       "count  2000.000000   2000.000000  2000.000000  2000.000000  2000.000000   \n",
       "mean   4204.175000  10360.929000     1.983350     0.519000     2.009500   \n",
       "min     512.000000   1002.000000     1.000000     0.000000     0.000000   \n",
       "25%    2372.000000   5432.250000     1.500000     0.000000     1.000000   \n",
       "50%    4223.500000  10529.500000     2.000000     1.000000     2.000000   \n",
       "75%    5991.250000  15038.500000     2.500000     1.000000     3.000000   \n",
       "max    7993.000000  19976.000000     3.000000     1.000000     4.000000   \n",
       "std    2139.806157   5510.502497     0.566682     0.499764     1.420359   \n",
       "\n",
       "         condition   sqft_above  sqft_basement     yr_built  yr_renovated  \n",
       "count  2000.000000  2000.000000    2000.000000  2000.000000   2000.000000  \n",
       "mean      2.963500  3168.449500    1026.792000  1960.413000   1683.252500  \n",
       "min       1.000000   400.000000       2.000000  1900.000000      0.000000  \n",
       "25%       2.000000  1736.250000     552.000000  1930.000000   1990.000000  \n",
       "50%       3.000000  3172.500000    1049.500000  1960.000000   2010.000000  \n",
       "75%       4.000000  4582.250000    1527.000000  1991.000000   2015.000000  \n",
       "max       5.000000  5997.000000    1999.000000  2021.000000   2020.000000  \n",
       "std       1.410022  1624.710311     570.568843    35.214009    738.973968  "
      ]
     },
     "execution_count": 148,
     "metadata": {},
     "output_type": "execute_result"
    }
   ],
   "source": [
    "housing_df.describe()"
   ]
  },
  {
   "cell_type": "markdown",
   "id": "e13ccc8e-90eb-47db-a849-e62808d8b1b9",
   "metadata": {},
   "source": [
    "### Checking for Missing Values"
   ]
  },
  {
   "cell_type": "code",
   "execution_count": 149,
   "id": "9d2c3db3-2d7e-4be0-b07f-51aeb3a5e740",
   "metadata": {},
   "outputs": [
    {
     "data": {
      "text/plain": [
       "date             0\n",
       "price            0\n",
       "bedrooms         0\n",
       "bathrooms        0\n",
       "sqft_living      0\n",
       "sqft_lot         0\n",
       "floors           0\n",
       "waterfront       0\n",
       "view             0\n",
       "condition        0\n",
       "sqft_above       0\n",
       "sqft_basement    0\n",
       "yr_built         0\n",
       "yr_renovated     0\n",
       "street           0\n",
       "city             0\n",
       "statezip         0\n",
       "country          0\n",
       "dtype: int64"
      ]
     },
     "execution_count": 149,
     "metadata": {},
     "output_type": "execute_result"
    }
   ],
   "source": [
    "housing_df.isnull().sum()"
   ]
  },
  {
   "cell_type": "markdown",
   "id": "4f444203-ab2b-46dc-b3c8-9387d0c5f82c",
   "metadata": {},
   "source": [
    "### Filtering and Sorting Example"
   ]
  },
  {
   "cell_type": "code",
   "execution_count": 150,
   "id": "454a525a-e372-48f4-b106-15d750fed962",
   "metadata": {},
   "outputs": [
    {
     "data": {
      "text/html": [
       "<div>\n",
       "<style scoped>\n",
       "    .dataframe tbody tr th:only-of-type {\n",
       "        vertical-align: middle;\n",
       "    }\n",
       "\n",
       "    .dataframe tbody tr th {\n",
       "        vertical-align: top;\n",
       "    }\n",
       "\n",
       "    .dataframe thead th {\n",
       "        text-align: right;\n",
       "    }\n",
       "</style>\n",
       "<table border=\"1\" class=\"dataframe\">\n",
       "  <thead>\n",
       "    <tr style=\"text-align: right;\">\n",
       "      <th></th>\n",
       "      <th>date</th>\n",
       "      <th>price</th>\n",
       "      <th>bedrooms</th>\n",
       "      <th>bathrooms</th>\n",
       "      <th>sqft_living</th>\n",
       "      <th>sqft_lot</th>\n",
       "      <th>floors</th>\n",
       "      <th>waterfront</th>\n",
       "      <th>view</th>\n",
       "      <th>condition</th>\n",
       "      <th>sqft_above</th>\n",
       "      <th>sqft_basement</th>\n",
       "      <th>yr_built</th>\n",
       "      <th>yr_renovated</th>\n",
       "      <th>street</th>\n",
       "      <th>city</th>\n",
       "      <th>statezip</th>\n",
       "      <th>country</th>\n",
       "    </tr>\n",
       "  </thead>\n",
       "  <tbody>\n",
       "    <tr>\n",
       "      <th>328</th>\n",
       "      <td>2020-11-24</td>\n",
       "      <td>1498685</td>\n",
       "      <td>2</td>\n",
       "      <td>1.1</td>\n",
       "      <td>4872</td>\n",
       "      <td>11892</td>\n",
       "      <td>1.0</td>\n",
       "      <td>0</td>\n",
       "      <td>4</td>\n",
       "      <td>5</td>\n",
       "      <td>2559</td>\n",
       "      <td>1912</td>\n",
       "      <td>1907</td>\n",
       "      <td>2015</td>\n",
       "      <td>9387 Maple St</td>\n",
       "      <td>Tacoma</td>\n",
       "      <td>WA 98052</td>\n",
       "      <td>USA</td>\n",
       "    </tr>\n",
       "    <tr>\n",
       "      <th>929</th>\n",
       "      <td>2022-07-18</td>\n",
       "      <td>1498021</td>\n",
       "      <td>6</td>\n",
       "      <td>4.8</td>\n",
       "      <td>3960</td>\n",
       "      <td>2506</td>\n",
       "      <td>2.4</td>\n",
       "      <td>1</td>\n",
       "      <td>0</td>\n",
       "      <td>5</td>\n",
       "      <td>1922</td>\n",
       "      <td>974</td>\n",
       "      <td>1926</td>\n",
       "      <td>2010</td>\n",
       "      <td>8080 Maple St</td>\n",
       "      <td>Bellevue</td>\n",
       "      <td>WA 98402</td>\n",
       "      <td>USA</td>\n",
       "    </tr>\n",
       "    <tr>\n",
       "      <th>935</th>\n",
       "      <td>2022-07-24</td>\n",
       "      <td>1497960</td>\n",
       "      <td>1</td>\n",
       "      <td>1.1</td>\n",
       "      <td>782</td>\n",
       "      <td>13616</td>\n",
       "      <td>2.2</td>\n",
       "      <td>0</td>\n",
       "      <td>1</td>\n",
       "      <td>5</td>\n",
       "      <td>4866</td>\n",
       "      <td>1012</td>\n",
       "      <td>1969</td>\n",
       "      <td>0</td>\n",
       "      <td>4598 Maple St</td>\n",
       "      <td>Kirkland</td>\n",
       "      <td>WA 98052</td>\n",
       "      <td>USA</td>\n",
       "    </tr>\n",
       "    <tr>\n",
       "      <th>331</th>\n",
       "      <td>2020-11-27</td>\n",
       "      <td>1497687</td>\n",
       "      <td>4</td>\n",
       "      <td>2.8</td>\n",
       "      <td>1051</td>\n",
       "      <td>7121</td>\n",
       "      <td>2.7</td>\n",
       "      <td>1</td>\n",
       "      <td>3</td>\n",
       "      <td>5</td>\n",
       "      <td>4315</td>\n",
       "      <td>514</td>\n",
       "      <td>1947</td>\n",
       "      <td>2010</td>\n",
       "      <td>7477 Maple St</td>\n",
       "      <td>Bellevue</td>\n",
       "      <td>WA 98052</td>\n",
       "      <td>USA</td>\n",
       "    </tr>\n",
       "    <tr>\n",
       "      <th>511</th>\n",
       "      <td>2021-05-26</td>\n",
       "      <td>1496403</td>\n",
       "      <td>5</td>\n",
       "      <td>4.1</td>\n",
       "      <td>5181</td>\n",
       "      <td>15245</td>\n",
       "      <td>1.5</td>\n",
       "      <td>1</td>\n",
       "      <td>2</td>\n",
       "      <td>4</td>\n",
       "      <td>2582</td>\n",
       "      <td>1342</td>\n",
       "      <td>1941</td>\n",
       "      <td>2020</td>\n",
       "      <td>7284 Oak St</td>\n",
       "      <td>Redmond</td>\n",
       "      <td>WA 98052</td>\n",
       "      <td>USA</td>\n",
       "    </tr>\n",
       "  </tbody>\n",
       "</table>\n",
       "</div>"
      ],
      "text/plain": [
       "          date    price  bedrooms  bathrooms  sqft_living  sqft_lot  floors  \\\n",
       "328 2020-11-24  1498685         2        1.1         4872     11892     1.0   \n",
       "929 2022-07-18  1498021         6        4.8         3960      2506     2.4   \n",
       "935 2022-07-24  1497960         1        1.1          782     13616     2.2   \n",
       "331 2020-11-27  1497687         4        2.8         1051      7121     2.7   \n",
       "511 2021-05-26  1496403         5        4.1         5181     15245     1.5   \n",
       "\n",
       "     waterfront  view  condition  sqft_above  sqft_basement  yr_built  \\\n",
       "328           0     4          5        2559           1912      1907   \n",
       "929           1     0          5        1922            974      1926   \n",
       "935           0     1          5        4866           1012      1969   \n",
       "331           1     3          5        4315            514      1947   \n",
       "511           1     2          4        2582           1342      1941   \n",
       "\n",
       "     yr_renovated         street      city  statezip country  \n",
       "328          2015  9387 Maple St    Tacoma  WA 98052     USA  \n",
       "929          2010  8080 Maple St  Bellevue  WA 98402     USA  \n",
       "935             0  4598 Maple St  Kirkland  WA 98052     USA  \n",
       "331          2010  7477 Maple St  Bellevue  WA 98052     USA  \n",
       "511          2020    7284 Oak St   Redmond  WA 98052     USA  "
      ]
     },
     "execution_count": 150,
     "metadata": {},
     "output_type": "execute_result"
    }
   ],
   "source": [
    "filtered = housing_df[housing_df['price'] > 1000000]\n",
    "filtered_sorted = filtered.sort_values(by='price', ascending=False)\n",
    "filtered_sorted.head(5)"
   ]
  },
  {
   "cell_type": "markdown",
   "id": "8c2ca3e7-ee83-4b00-a2cc-248d8a6c8517",
   "metadata": {},
   "source": [
    "## 4️⃣ Data Transformation and Aggregation"
   ]
  },
  {
   "cell_type": "code",
   "execution_count": 151,
   "id": "7cefedc2-a334-46da-877c-dcbc80677b94",
   "metadata": {},
   "outputs": [
    {
     "data": {
      "text/html": [
       "<div>\n",
       "<style scoped>\n",
       "    .dataframe tbody tr th:only-of-type {\n",
       "        vertical-align: middle;\n",
       "    }\n",
       "\n",
       "    .dataframe tbody tr th {\n",
       "        vertical-align: top;\n",
       "    }\n",
       "\n",
       "    .dataframe thead th {\n",
       "        text-align: right;\n",
       "    }\n",
       "</style>\n",
       "<table border=\"1\" class=\"dataframe\">\n",
       "  <thead>\n",
       "    <tr style=\"text-align: right;\">\n",
       "      <th></th>\n",
       "      <th>city</th>\n",
       "      <th>price</th>\n",
       "    </tr>\n",
       "  </thead>\n",
       "  <tbody>\n",
       "    <tr>\n",
       "      <th>4</th>\n",
       "      <td>Tacoma</td>\n",
       "      <td>809425.815965</td>\n",
       "    </tr>\n",
       "    <tr>\n",
       "      <th>1</th>\n",
       "      <td>Kirkland</td>\n",
       "      <td>805448.167102</td>\n",
       "    </tr>\n",
       "    <tr>\n",
       "      <th>0</th>\n",
       "      <td>Bellevue</td>\n",
       "      <td>772885.059621</td>\n",
       "    </tr>\n",
       "    <tr>\n",
       "      <th>2</th>\n",
       "      <td>Redmond</td>\n",
       "      <td>771842.199041</td>\n",
       "    </tr>\n",
       "    <tr>\n",
       "      <th>3</th>\n",
       "      <td>Seattle</td>\n",
       "      <td>727210.978947</td>\n",
       "    </tr>\n",
       "  </tbody>\n",
       "</table>\n",
       "</div>"
      ],
      "text/plain": [
       "       city          price\n",
       "4    Tacoma  809425.815965\n",
       "1  Kirkland  805448.167102\n",
       "0  Bellevue  772885.059621\n",
       "2   Redmond  771842.199041\n",
       "3   Seattle  727210.978947"
      ]
     },
     "execution_count": 151,
     "metadata": {},
     "output_type": "execute_result"
    }
   ],
   "source": [
    "housing_df['price_per_sqft'] = (housing_df['price'] / housing_df['sqft_living']).round(2)\n",
    "\n",
    "city_avg = housing_df.groupby('city')['price'].mean().reset_index().sort_values(by='price', ascending=False)\n",
    "city_avg"
   ]
  },
  {
   "cell_type": "markdown",
   "id": "1eb774df-95a2-45ed-bc1d-0fd807496884",
   "metadata": {},
   "source": [
    "## 5️⃣ Simple Visualization"
   ]
  },
  {
   "cell_type": "code",
   "execution_count": 152,
   "id": "ff90f8f7-fb65-4c36-941e-068aea6326e1",
   "metadata": {},
   "outputs": [
    {
     "data": {
      "image/png": "[encoded data removed]",
      "text/plain": [
       "<Figure size 800x500 with 1 Axes>"
      ]
     },
     "metadata": {},
     "output_type": "display_data"
    }
   ],
   "source": [
    "import matplotlib.pyplot as plt\n",
    "\n",
    "plt.figure(figsize=(8,5))\n",
    "plt.bar(city_avg['city'], city_avg['price'])\n",
    "plt.title('Average House Price by City')\n",
    "plt.xlabel('City')\n",
    "plt.ylabel('Average Price')\n",
    "plt.xticks(rotation=45)\n",
    "plt.show()"
   ]
  },
  {
   "cell_type": "code",
   "execution_count": null,
   "id": "019df8bc-2403-4b37-9991-1b4ee8715712",
   "metadata": {},
   "outputs": [],
   "source": []
  }
 ],
 "metadata": {
  "kernelspec": {
   "display_name": "Python 3 (ipykernel)",
   "language": "python",
   "name": "python3"
  },
  "language_info": {
   "codemirror_mode": {
    "name": "ipython",
    "version": 3
   },
   "file_extension": ".py",
   "mimetype": "text/x-python",
   "name": "python",
   "nbconvert_exporter": "python",
   "pygments_lexer": "ipython3",
   "version": "3.13.7"
  }
 },
 "nbformat": 4,
 "nbformat_minor": 5
}
